{
  "nbformat": 4,
  "nbformat_minor": 0,
  "metadata": {
    "colab": {
      "name": "bci_4_tl_sub1.ipynb",
      "version": "0.3.2",
      "provenance": [],
      "collapsed_sections": [],
      "include_colab_link": true
    },
    "kernelspec": {
      "name": "python3",
      "display_name": "Python 3"
    },
    "accelerator": "GPU"
  },
  "cells": [
    {
      "cell_type": "markdown",
      "metadata": {
        "id": "view-in-github",
        "colab_type": "text"
      },
      "source": [
        "<a href=\"https://colab.research.google.com/github/zabir-nabil/eeg-rsenet/blob/master/bci_4_tl_sub1.ipynb\" target=\"_parent\"><img src=\"https://colab.research.google.com/assets/colab-badge.svg\" alt=\"Open In Colab\"/></a>"
      ]
    },
    {
      "metadata": {
        "id": "h8xtGvvPdljx",
        "colab_type": "text"
      },
      "cell_type": "markdown",
      "source": [
        "zabiralnazi@yahoo.com"
      ]
    },
    {
      "metadata": {
        "id": "2wn2dXhsdQor",
        "colab_type": "code",
        "outputId": "26c0b08b-c6e3-49cc-8bba-c6a35cf85d39",
        "colab": {
          "base_uri": "https://localhost:8080/",
          "height": 128
        }
      },
      "cell_type": "code",
      "source": [
        "# Load the Drive helper and mount\n",
        "from google.colab import drive\n",
        "\n",
        "# This will prompt for authorization.\n",
        "drive.mount('/content/drive')"
      ],
      "execution_count": 0,
      "outputs": [
        {
          "output_type": "stream",
          "text": [
            "Go to this URL in a browser: https://accounts.google.com/o/oauth2/auth?client_id=947318989803-6bn6qk8qdgf4n4g3pfee6491hc0brc4i.apps.googleusercontent.com&redirect_uri=urn%3Aietf%3Awg%3Aoauth%3A2.0%3Aoob&scope=email%20https%3A%2F%2Fwww.googleapis.com%2Fauth%2Fdocs.test%20https%3A%2F%2Fwww.googleapis.com%2Fauth%2Fdrive%20https%3A%2F%2Fwww.googleapis.com%2Fauth%2Fdrive.photos.readonly%20https%3A%2F%2Fwww.googleapis.com%2Fauth%2Fpeopleapi.readonly&response_type=code\n",
            "\n",
            "Enter your authorization code:\n",
            "··········\n",
            "Mounted at /content/drive\n"
          ],
          "name": "stdout"
        }
      ]
    },
    {
      "metadata": {
        "id": "MTVHMUHkdqZC",
        "colab_type": "code",
        "outputId": "0e25e32e-796c-4d07-cf4f-8030dbceea56",
        "colab": {
          "base_uri": "https://localhost:8080/",
          "height": 35
        }
      },
      "cell_type": "code",
      "source": [
        "% cd /content/drive/My Drive/subject 1/"
      ],
      "execution_count": 0,
      "outputs": [
        {
          "output_type": "stream",
          "text": [
            "/content/drive/My Drive/subject 1\n"
          ],
          "name": "stdout"
        }
      ]
    },
    {
      "metadata": {
        "id": "9r9cAuxbeNWj",
        "colab_type": "code",
        "colab": {}
      },
      "cell_type": "code",
      "source": [
        "import glob\n",
        "\n",
        "cls1_ch1 = []\n",
        "cls1_ch2 = []\n",
        "cls1_ch3 = []\n",
        "\n",
        "cls2_ch1 = []\n",
        "cls2_ch2 = []\n",
        "cls2_ch3 = []\n",
        "\n",
        "for f in glob.glob('/content/drive/My Drive/subject 1/lvl 1/ch 0/*.png'):\n",
        "  cls1_ch1.append(f)\n",
        "  \n",
        "for f in glob.glob('/content/drive/My Drive/subject 1/lvl 1/ch 1/*.png'):\n",
        "  cls1_ch2.append(f)\n",
        "  \n",
        "for f in glob.glob('/content/drive/My Drive/subject 1/lvl 1/ch 2/*.png'):\n",
        "  cls1_ch3.append(f)\n",
        "  \n",
        "for f in glob.glob('/content/drive/My Drive/subject 1/lvl 2/ch 0/*.png'):\n",
        "  cls2_ch1.append(f)\n",
        "  \n",
        "for f in glob.glob('/content/drive/My Drive/subject 1/lvl 2/ch 1/*.png'):\n",
        "  cls2_ch2.append(f)\n",
        "  \n",
        "for f in glob.glob('/content/drive/My Drive/subject 1/lvl 2/ch 2/*.png'):\n",
        "  cls2_ch3.append(f)"
      ],
      "execution_count": 0,
      "outputs": []
    },
    {
      "metadata": {
        "id": "KL9To58vid3X",
        "colab_type": "code",
        "colab": {}
      },
      "cell_type": "code",
      "source": [
        "cls1_ch1.sort()\n",
        "cls1_ch2.sort()\n",
        "cls1_ch3.sort()\n",
        "\n",
        "cls2_ch1.sort()\n",
        "cls2_ch2.sort()\n",
        "cls2_ch3.sort()"
      ],
      "execution_count": 0,
      "outputs": []
    },
    {
      "metadata": {
        "id": "o03ZkUo6iloG",
        "colab_type": "code",
        "outputId": "769bb173-dcb4-4d5f-d5a5-688faa0767fe",
        "colab": {
          "base_uri": "https://localhost:8080/",
          "height": 126
        }
      },
      "cell_type": "code",
      "source": [
        "print(len(cls1_ch1))\n",
        "print(len(cls1_ch2))\n",
        "print(len(cls1_ch3))\n",
        "\n",
        "print(len(cls2_ch1))\n",
        "print(len(cls2_ch2))\n",
        "print(len(cls2_ch3))"
      ],
      "execution_count": 0,
      "outputs": [
        {
          "output_type": "stream",
          "text": [
            "60\n",
            "60\n",
            "60\n",
            "60\n",
            "60\n",
            "60\n"
          ],
          "name": "stdout"
        }
      ]
    },
    {
      "metadata": {
        "id": "am_eR9RAisYF",
        "colab_type": "code",
        "colab": {}
      },
      "cell_type": "code",
      "source": [
        "import cv2\n",
        "\n",
        "x1 = []\n",
        "x2 = []\n",
        "x3 = []\n",
        "\n",
        "y = []\n",
        "\n",
        "for i in range(len(cls1_ch1)):\n",
        "  x1.append(cv2.resize(cv2.imread(cls1_ch1[i]), (224, 224)))\n",
        "  x2.append(cv2.resize(cv2.imread(cls1_ch2[i]), (224, 224)))\n",
        "  x3.append(cv2.resize(cv2.imread(cls1_ch3[i]), (224, 224)))\n",
        "  \n",
        "  y.append(0)\n",
        "  \n",
        "for i in range(len(cls2_ch1)):\n",
        "  x1.append(cv2.resize(cv2.imread(cls2_ch1[i]), (224, 224)))\n",
        "  x2.append(cv2.resize(cv2.imread(cls2_ch2[i]), (224, 224)))\n",
        "  x3.append(cv2.resize(cv2.imread(cls2_ch3[i]), (224, 224)))\n",
        "  \n",
        "  y.append(1)"
      ],
      "execution_count": 0,
      "outputs": []
    },
    {
      "metadata": {
        "id": "YP_DAg_fi1ie",
        "colab_type": "code",
        "colab": {}
      },
      "cell_type": "code",
      "source": [
        "##################################------------------------------------------------######################################"
      ],
      "execution_count": 0,
      "outputs": []
    },
    {
      "metadata": {
        "id": "ndO7wDjqkByk",
        "colab_type": "code",
        "colab": {}
      },
      "cell_type": "code",
      "source": [
        "# customization for multi-channel"
      ],
      "execution_count": 0,
      "outputs": []
    },
    {
      "metadata": {
        "id": "Xo1OFiU3lCzF",
        "colab_type": "code",
        "outputId": "2bc95272-ecd9-4b73-ce2c-7b99f5ddcc5e",
        "colab": {
          "base_uri": "https://localhost:8080/",
          "height": 201
        }
      },
      "cell_type": "code",
      "source": [
        "! pip install Augmentor "
      ],
      "execution_count": 0,
      "outputs": [
        {
          "output_type": "stream",
          "text": [
            "Collecting Augmentor\n",
            "  Downloading https://files.pythonhosted.org/packages/4d/f4/b0eaa9d3b4120a5450ac92d4417907ca60fad5749c1f50ed95f720792350/Augmentor-0.2.3-py2.py3-none-any.whl\n",
            "Requirement already satisfied: tqdm>=4.9.0 in /usr/local/lib/python3.6/dist-packages (from Augmentor) (4.28.1)\n",
            "Requirement already satisfied: future>=0.16.0 in /usr/local/lib/python3.6/dist-packages (from Augmentor) (0.16.0)\n",
            "Requirement already satisfied: numpy>=1.11.0 in /usr/local/lib/python3.6/dist-packages (from Augmentor) (1.14.6)\n",
            "Requirement already satisfied: Pillow>=4.0.0 in /usr/local/lib/python3.6/dist-packages (from Augmentor) (4.0.0)\n",
            "Requirement already satisfied: olefile in /usr/local/lib/python3.6/dist-packages (from Pillow>=4.0.0->Augmentor) (0.46)\n",
            "Installing collected packages: Augmentor\n",
            "Successfully installed Augmentor-0.2.3\n"
          ],
          "name": "stdout"
        }
      ]
    },
    {
      "metadata": {
        "id": "Zc3pV_9qlEWz",
        "colab_type": "code",
        "colab": {}
      },
      "cell_type": "code",
      "source": [
        "z = list(zip(x1,x2,x3))"
      ],
      "execution_count": 0,
      "outputs": []
    },
    {
      "metadata": {
        "id": "AJvEkZ5SlH3O",
        "colab_type": "code",
        "outputId": "013e3791-6a40-47df-8b65-9b896ce14aaf",
        "colab": {
          "base_uri": "https://localhost:8080/",
          "height": 35
        }
      },
      "cell_type": "code",
      "source": [
        "print(len((z)))"
      ],
      "execution_count": 0,
      "outputs": [
        {
          "output_type": "stream",
          "text": [
            "120\n"
          ],
          "name": "stdout"
        }
      ]
    },
    {
      "metadata": {
        "id": "uFX4XYnOmmK2",
        "colab_type": "code",
        "colab": {}
      },
      "cell_type": "code",
      "source": [
        "def unzip(z):\n",
        "  x1_p = [a[0] for a in z]\n",
        "  x2_p = [a[1] for a in z]\n",
        "  x3_p = [a[2] for a in z]\n",
        "  return x1_p, x2_p, x3_p"
      ],
      "execution_count": 0,
      "outputs": []
    },
    {
      "metadata": {
        "id": "IxhT4ErEmosW",
        "colab_type": "code",
        "colab": {}
      },
      "cell_type": "code",
      "source": [
        "import random\n",
        "random.seed(1997)"
      ],
      "execution_count": 0,
      "outputs": []
    },
    {
      "metadata": {
        "id": "4jQ4eb05mqsN",
        "colab_type": "code",
        "colab": {}
      },
      "cell_type": "code",
      "source": [
        "import Augmentor\n",
        "\n",
        "p = Augmentor.DataPipeline(z, y)\n",
        "\n",
        "p.rotate(probability=0.2, max_left_rotation=5, max_right_rotation=5)\n",
        "p.flip_left_right(probability=0.2)\n",
        "p.zoom_random(probability=0.1, percentage_area=0.8)\n",
        "p.flip_top_bottom(probability=0.3)\n",
        "p.gaussian_distortion(probability=0.05, grid_width=4, grid_height=4, magnitude=3, corner='bell', method='in', mex=0.5, mey=0.5, sdx=0.05, sdy=0.05)\n",
        "p.random_brightness(probability=0.05, min_factor=0.7, max_factor=1.3)\n",
        "p.random_color(probability=0.05, min_factor=0.6, max_factor=0.9)\n",
        "p.random_contrast(probability=0.05, min_factor=0.6, max_factor=0.9)\n",
        "p.random_distortion(probability=0.2, grid_width=4, grid_height=4, magnitude=2)\n",
        "\n",
        "augmented_images, labels = p.sample(1000)"
      ],
      "execution_count": 0,
      "outputs": []
    },
    {
      "metadata": {
        "id": "zEFyQKbzmwQ-",
        "colab_type": "code",
        "colab": {}
      },
      "cell_type": "code",
      "source": [
        "x1_p, x2_p, x3_p = unzip(augmented_images)\n",
        "y_p = labels"
      ],
      "execution_count": 0,
      "outputs": []
    },
    {
      "metadata": {
        "id": "4E9DTuSJm8tE",
        "colab_type": "code",
        "outputId": "a5c76daf-0805-4d51-95b7-7a996b1a05d9",
        "colab": {
          "base_uri": "https://localhost:8080/",
          "height": 35
        }
      },
      "cell_type": "code",
      "source": [
        "print(augmented_images[9][2].shape)"
      ],
      "execution_count": 0,
      "outputs": [
        {
          "output_type": "stream",
          "text": [
            "(224, 224, 3)\n"
          ],
          "name": "stdout"
        }
      ]
    },
    {
      "metadata": {
        "id": "XMzcc49pm-5D",
        "colab_type": "code",
        "outputId": "7d3dbbc4-6704-41ab-cde4-69434e985317",
        "colab": {
          "base_uri": "https://localhost:8080/",
          "height": 72
        }
      },
      "cell_type": "code",
      "source": [
        "print(len(x1_p))\n",
        "print(len(x2_p))\n",
        "print(len(x3_p))"
      ],
      "execution_count": 0,
      "outputs": [
        {
          "output_type": "stream",
          "text": [
            "1000\n",
            "1000\n",
            "1000\n"
          ],
          "name": "stdout"
        }
      ]
    },
    {
      "metadata": {
        "id": "QL-29eacnAsU",
        "colab_type": "code",
        "colab": {}
      },
      "cell_type": "code",
      "source": [
        "x1.extend(x1_p)\n",
        "x2.extend(x2_p)\n",
        "x3.extend(x3_p)\n",
        "y.extend(y_p)"
      ],
      "execution_count": 0,
      "outputs": []
    },
    {
      "metadata": {
        "id": "bfHkNiDLnFsu",
        "colab_type": "code",
        "outputId": "0238949c-9996-4ca6-8ba3-f5d6046f4752",
        "colab": {
          "base_uri": "https://localhost:8080/",
          "height": 90
        }
      },
      "cell_type": "code",
      "source": [
        "print(len(x1))\n",
        "print(len(x2))\n",
        "print(len(x3))\n",
        "print(len(y))"
      ],
      "execution_count": 0,
      "outputs": [
        {
          "output_type": "stream",
          "text": [
            "1120\n",
            "1120\n",
            "1120\n",
            "1120\n"
          ],
          "name": "stdout"
        }
      ]
    },
    {
      "metadata": {
        "id": "zuFPh6ELnHnF",
        "colab_type": "code",
        "colab": {}
      },
      "cell_type": "code",
      "source": [
        "import random\n",
        "random.seed(100)\n",
        "zz = list(zip(x1, x2, x3, y))\n",
        "random.shuffle(zz)"
      ],
      "execution_count": 0,
      "outputs": []
    },
    {
      "metadata": {
        "id": "8ETNX5_2nLnw",
        "colab_type": "code",
        "colab": {}
      },
      "cell_type": "code",
      "source": [
        "z1 = [a[0] for a in zz]\n",
        "z2 = [a[1] for a in zz]\n",
        "z3 = [a[2] for a in zz]\n",
        "zy = [a[3] for a in zz]"
      ],
      "execution_count": 0,
      "outputs": []
    },
    {
      "metadata": {
        "id": "WnhlT0qDnPNu",
        "colab_type": "code",
        "outputId": "8b7a0bc6-50d4-4e0c-9832-2d58b9af50c1",
        "colab": {
          "base_uri": "https://localhost:8080/",
          "height": 35
        }
      },
      "cell_type": "code",
      "source": [
        "split = int(0.8*(len(z1)))\n",
        "print(split)"
      ],
      "execution_count": 0,
      "outputs": [
        {
          "output_type": "stream",
          "text": [
            "896\n"
          ],
          "name": "stdout"
        }
      ]
    },
    {
      "metadata": {
        "id": "BbvXT1NhnSiJ",
        "colab_type": "code",
        "colab": {}
      },
      "cell_type": "code",
      "source": [
        "x1_tr = z1[:split]\n",
        "x2_tr = z2[:split]\n",
        "x3_tr = z3[:split]\n",
        "y_tr = zy[:split]\n",
        "\n",
        "x1_ts = z1[split:]\n",
        "x2_ts = z2[split:]\n",
        "x3_ts = z3[split:]\n",
        "y_ts = zy[split:]"
      ],
      "execution_count": 0,
      "outputs": []
    },
    {
      "metadata": {
        "id": "rnbRfyiCnVtl",
        "colab_type": "code",
        "colab": {}
      },
      "cell_type": "code",
      "source": [
        "import numpy as np\n",
        "x1_tr = np.array(x1_tr, dtype = 'float32')\n",
        "x2_tr = np.array(x2_tr, dtype = 'float32')\n",
        "x3_tr = np.array(x3_tr, dtype = 'float32')\n",
        "y_tr = np.array(y_tr, dtype = 'float32')\n",
        "y_ts = np.array(y_ts, dtype = 'float32')"
      ],
      "execution_count": 0,
      "outputs": []
    },
    {
      "metadata": {
        "id": "wEEI36nCna5-",
        "colab_type": "code",
        "outputId": "089a6855-2b51-415b-f6ea-b2dfdafeab85",
        "colab": {
          "base_uri": "https://localhost:8080/",
          "height": 35
        }
      },
      "cell_type": "code",
      "source": [
        "print(np.mean(x1_tr))"
      ],
      "execution_count": 0,
      "outputs": [
        {
          "output_type": "stream",
          "text": [
            "152.127\n"
          ],
          "name": "stdout"
        }
      ]
    },
    {
      "metadata": {
        "id": "JbutjITlndU0",
        "colab_type": "code",
        "colab": {}
      },
      "cell_type": "code",
      "source": [
        "x1_tr = x1_tr/255.\n",
        "x2_tr = x2_tr/255.\n",
        "x3_tr = x3_tr/255."
      ],
      "execution_count": 0,
      "outputs": []
    },
    {
      "metadata": {
        "id": "NsWHtOcznfL2",
        "colab_type": "code",
        "outputId": "e3341876-2fe6-4bdd-e7ed-5824f915a200",
        "colab": {
          "base_uri": "https://localhost:8080/",
          "height": 35
        }
      },
      "cell_type": "code",
      "source": [
        "np.mean(x1_tr)"
      ],
      "execution_count": 0,
      "outputs": [
        {
          "output_type": "execute_result",
          "data": {
            "text/plain": [
              "0.5965752"
            ]
          },
          "metadata": {
            "tags": []
          },
          "execution_count": 88
        }
      ]
    },
    {
      "metadata": {
        "id": "NN1-ePhwSp1n",
        "colab_type": "code",
        "colab": {}
      },
      "cell_type": "code",
      "source": [
        "x1_ts = np.array(x1_ts, dtype = 'float32')\n",
        "x2_ts = np.array(x2_ts, dtype = 'float32')\n",
        "x3_ts = np.array(x3_ts, dtype = 'float32')"
      ],
      "execution_count": 0,
      "outputs": []
    },
    {
      "metadata": {
        "id": "0_wL8gEDSuv-",
        "colab_type": "code",
        "outputId": "1e842487-325f-4f23-a0f8-8a6f4595c10c",
        "colab": {
          "base_uri": "https://localhost:8080/",
          "height": 35
        }
      },
      "cell_type": "code",
      "source": [
        "print(np.mean(x1_ts))"
      ],
      "execution_count": 0,
      "outputs": [
        {
          "output_type": "stream",
          "text": [
            "151.80609\n"
          ],
          "name": "stdout"
        }
      ]
    },
    {
      "metadata": {
        "id": "xzwrpAZRSxcf",
        "colab_type": "code",
        "colab": {}
      },
      "cell_type": "code",
      "source": [
        "x1_ts = x1_ts/255.\n",
        "x2_ts = x2_ts/255.\n",
        "x3_ts = x3_ts/255."
      ],
      "execution_count": 0,
      "outputs": []
    },
    {
      "metadata": {
        "id": "oxJuT4TkS12Y",
        "colab_type": "code",
        "outputId": "331bf874-d4bf-4235-b0d8-f5a442aca2d3",
        "colab": {
          "base_uri": "https://localhost:8080/",
          "height": 35
        }
      },
      "cell_type": "code",
      "source": [
        "print(np.mean(x1_ts))"
      ],
      "execution_count": 0,
      "outputs": [
        {
          "output_type": "stream",
          "text": [
            "0.59531933\n"
          ],
          "name": "stdout"
        }
      ]
    },
    {
      "metadata": {
        "id": "ThSDIxn7no9f",
        "colab_type": "code",
        "colab": {}
      },
      "cell_type": "code",
      "source": [
        "from keras.applications.resnet50 import ResNet50\n",
        "from keras.preprocessing import image\n",
        "from keras.applications.resnet50 import preprocess_input\n",
        "\n",
        "model = ResNet50(weights='imagenet', include_top=False, pooling=\"avg\")"
      ],
      "execution_count": 0,
      "outputs": []
    },
    {
      "metadata": {
        "id": "_LvDNhBCPPAu",
        "colab_type": "code",
        "outputId": "d32f5f06-fc5e-41f9-90d2-48bf13aa032b",
        "colab": {
          "base_uri": "https://localhost:8080/",
          "height": 35
        }
      },
      "cell_type": "code",
      "source": [
        "x1_tr.shape"
      ],
      "execution_count": 0,
      "outputs": [
        {
          "output_type": "execute_result",
          "data": {
            "text/plain": [
              "(896, 224, 224, 3)"
            ]
          },
          "metadata": {
            "tags": []
          },
          "execution_count": 94
        }
      ]
    },
    {
      "metadata": {
        "id": "GhStSzurrxvj",
        "colab_type": "code",
        "outputId": "6eb1d2d4-46b3-46de-c34b-15ef27581ba0",
        "colab": {
          "base_uri": "https://localhost:8080/",
          "height": 72
        }
      },
      "cell_type": "code",
      "source": [
        "fx1_tr = model.predict(x1_tr)\n",
        "print(fx1_tr.shape)\n",
        "\n",
        "\n",
        "fx2_tr = model.predict(x2_tr)\n",
        "print(fx2_tr.shape)\n",
        "\n",
        "fx3_tr = model.predict(x3_tr)\n",
        "print(fx3_tr.shape)"
      ],
      "execution_count": 0,
      "outputs": [
        {
          "output_type": "stream",
          "text": [
            "(896, 2048)\n",
            "(896, 2048)\n",
            "(896, 2048)\n"
          ],
          "name": "stdout"
        }
      ]
    },
    {
      "metadata": {
        "id": "2QWX2RLnrJ__",
        "colab_type": "code",
        "outputId": "6f318936-e3db-48cb-b8b3-ba2a2e57ccd7",
        "colab": {
          "base_uri": "https://localhost:8080/",
          "height": 35
        }
      },
      "cell_type": "code",
      "source": [
        "fx_tr = np.concatenate((fx1_tr, fx2_tr, fx3_tr), axis=-1)\n",
        "print(fx_tr.shape)"
      ],
      "execution_count": 0,
      "outputs": [
        {
          "output_type": "stream",
          "text": [
            "(896, 6144)\n"
          ],
          "name": "stdout"
        }
      ]
    },
    {
      "metadata": {
        "id": "UP_sOWpXrtfO",
        "colab_type": "code",
        "outputId": "59d912fa-dc2f-4506-feb3-0b1a75c9439c",
        "colab": {
          "base_uri": "https://localhost:8080/",
          "height": 72
        }
      },
      "cell_type": "code",
      "source": [
        "fx1_ts = model.predict(x1_ts)\n",
        "print(fx1_ts.shape)\n",
        "\n",
        "\n",
        "fx2_ts = model.predict(x2_ts)\n",
        "print(fx2_ts.shape)\n",
        "\n",
        "fx3_ts = model.predict(x3_ts)\n",
        "print(fx3_ts.shape)"
      ],
      "execution_count": 0,
      "outputs": [
        {
          "output_type": "stream",
          "text": [
            "(224, 2048)\n",
            "(224, 2048)\n",
            "(224, 2048)\n"
          ],
          "name": "stdout"
        }
      ]
    },
    {
      "metadata": {
        "id": "MHOnsyGFS-Zv",
        "colab_type": "code",
        "outputId": "12fac294-9bab-4d66-82bd-8e8032784780",
        "colab": {
          "base_uri": "https://localhost:8080/",
          "height": 35
        }
      },
      "cell_type": "code",
      "source": [
        "fx_ts = np.concatenate((fx1_ts, fx2_ts, fx3_ts), axis=-1)\n",
        "print(fx_ts.shape)"
      ],
      "execution_count": 0,
      "outputs": [
        {
          "output_type": "stream",
          "text": [
            "(224, 6144)\n"
          ],
          "name": "stdout"
        }
      ]
    },
    {
      "metadata": {
        "id": "YSQWq7UUTWwu",
        "colab_type": "code",
        "colab": {}
      },
      "cell_type": "code",
      "source": [
        "from sklearn.manifold import TSNE\n",
        "tsne = TSNE(n_components=2, random_state=0)"
      ],
      "execution_count": 0,
      "outputs": []
    },
    {
      "metadata": {
        "id": "M9ZkbHVnTWfG",
        "colab_type": "code",
        "colab": {}
      },
      "cell_type": "code",
      "source": [
        "X_2d = tsne.fit_transform(fx_tr)"
      ],
      "execution_count": 0,
      "outputs": []
    },
    {
      "metadata": {
        "id": "G0tpYZ9DTwCn",
        "colab_type": "code",
        "outputId": "a70f4de2-c4be-46e8-8265-a1d7fe7ad0e8",
        "colab": {
          "base_uri": "https://localhost:8080/",
          "height": 35
        }
      },
      "cell_type": "code",
      "source": [
        "X_2d.shape"
      ],
      "execution_count": 0,
      "outputs": [
        {
          "output_type": "execute_result",
          "data": {
            "text/plain": [
              "(896, 2)"
            ]
          },
          "metadata": {
            "tags": []
          },
          "execution_count": 105
        }
      ]
    },
    {
      "metadata": {
        "id": "dQ7Obo_aTWLl",
        "colab_type": "code",
        "outputId": "35dbd437-fa0d-4143-b67a-a9e4a17c6e68",
        "colab": {
          "base_uri": "https://localhost:8080/",
          "height": 931
        }
      },
      "cell_type": "code",
      "source": [
        "import matplotlib.pyplot as plt\n",
        "\n",
        "plt.figure(figsize=(20,14))\n",
        "\n",
        "B_SIZE = 10\n",
        "axis_font = {'fontname':'Arial', 'size':'30'}\n",
        "plt.rc('font', size=B_SIZE)          # controls default text sizes\n",
        "plt.rc('axes', titlesize=B_SIZE+5)     # fontsize of the axes title\n",
        "plt.rc('axes', labelsize=B_SIZE+5)    # fontsize of the x and y labels\n",
        "plt.rc('xtick', labelsize=B_SIZE-5)    # fontsize of the tick labels\n",
        "plt.rc('ytick', labelsize=B_SIZE-5)    # fontsize of the tick labels\n",
        "plt.rc('legend', fontsize=B_SIZE+5)    # legend fontsize\n",
        "plt.rc('figure', titlesize=B_SIZE)  # fontsize of the figure title\n",
        "#plt.rc('xlabel', titlesize=B_SIZE+10)\n",
        "#plt.rc('ylabel', titlesize=B_SIZE+10)\n",
        "labels = [0, 1]\n",
        "class_label = ['Class 0', 'Class 1']\n",
        "\n",
        "plt.figure(figsize=(20,15))\n",
        "plt.title('t-SNE for eeg features', fontweight='bold')\n",
        "plt.xlabel('dim 1')\n",
        "plt.ylabel('dim 2')\n",
        "colors = 'b', 'g'\n",
        "for i, c, label in zip(labels, colors, class_label):\n",
        "    plt.scatter(X_2d[y_tr == i, 0], X_2d[y_tr == i, 1], c=c,\n",
        "                label=label, alpha=0.8, linewidths=2, edgecolors ='k',\n",
        "               s=100)\n",
        "plt.legend()\n",
        "plt.savefig('tsne_feature_plot.png', bbox_inches='tight')\n",
        "plt.show()"
      ],
      "execution_count": 0,
      "outputs": [
        {
          "output_type": "display_data",
          "data": {
            "text/plain": [
              "<Figure size 1440x1008 with 0 Axes>"
            ]
          },
          "metadata": {
            "tags": []
          }
        },
        {
          "output_type": "display_data",
          "data": {
            "image/png": "[encoded data removed]",
            "text/plain": [
              "<Figure size 1440x1080 with 1 Axes>"
            ]
          },
          "metadata": {
            "tags": []
          }
        }
      ]
    },
    {
      "metadata": {
        "id": "W9ECFit0TV5m",
        "colab_type": "code",
        "outputId": "ee652f69-fb78-4198-9125-de39b7af3659",
        "colab": {
          "base_uri": "https://localhost:8080/",
          "height": 53
        }
      },
      "cell_type": "code",
      "source": [
        "from sklearn.preprocessing import StandardScaler\n",
        "\n",
        "scaler = StandardScaler()\n",
        "scaler.fit(fx_tr)\n",
        "\n",
        "print(scaler.mean_)\n",
        "\n",
        "\n",
        "Xtr = scaler.transform(fx_tr)"
      ],
      "execution_count": 0,
      "outputs": [
        {
          "output_type": "stream",
          "text": [
            "[0.00000000e+00 0.00000000e+00 1.62961920e-05 ... 2.00998279e+00\n",
            " 0.00000000e+00 0.00000000e+00]\n"
          ],
          "name": "stdout"
        }
      ]
    },
    {
      "metadata": {
        "id": "rcz8B3EITVn-",
        "colab_type": "code",
        "outputId": "6f48cf88-904e-4670-ee16-ab87ecdb43b7",
        "colab": {
          "base_uri": "https://localhost:8080/",
          "height": 53
        }
      },
      "cell_type": "code",
      "source": [
        "print(np.mean(Xtr)) # MEAN IS ZERO \n",
        "print(np.var(Xtr)) # VARIANCE IS 1"
      ],
      "execution_count": 0,
      "outputs": [
        {
          "output_type": "stream",
          "text": [
            "4.1798645e-09\n",
            "0.364583\n"
          ],
          "name": "stdout"
        }
      ]
    },
    {
      "metadata": {
        "id": "7CqV_bP4YnzA",
        "colab_type": "code",
        "colab": {}
      },
      "cell_type": "code",
      "source": [
        "class_weight = {0: 0.5, 1: 0.5} "
      ],
      "execution_count": 0,
      "outputs": []
    },
    {
      "metadata": {
        "id": "x0xpKxJATVUm",
        "colab_type": "code",
        "outputId": "f18f347f-66b7-41a6-f0dc-678e3c3e7b7f",
        "colab": {
          "base_uri": "https://localhost:8080/",
          "height": 90
        }
      },
      "cell_type": "code",
      "source": [
        "from sklearn.model_selection import cross_val_score\n",
        "from sklearn import svm\n",
        "\n",
        "clf1 = svm.SVC(kernel='linear', C=10, class_weight = class_weight)\n",
        "scores = cross_val_score(clf1, Xtr, y_tr, cv=10)\n",
        "print('SVM 10 fold CV Accuracy: ', scores.mean(), scores.std())\n",
        "\n",
        "\n",
        "\n",
        "from sklearn.ensemble import RandomForestClassifier\n",
        "clf2 = RandomForestClassifier(n_estimators=10, max_depth=None,\n",
        "    min_samples_split=2, random_state=0, class_weight = class_weight)\n",
        "\n",
        "scores = cross_val_score(clf2, Xtr, y_tr, cv=10)\n",
        "print('Random Forest 10 fold Accuracy: ', scores.mean(), scores.std())\n",
        "\n",
        "\n",
        "\n",
        "from sklearn import tree\n",
        "clf3 = tree.DecisionTreeClassifier()\n",
        "\n",
        "scores = cross_val_score(clf3, Xtr, y_tr, cv=10)\n",
        "print('Decision Tree 10 fold Accuracy: ', scores.mean(), scores.std())\n",
        "\n",
        "\n",
        "from sklearn.neighbors import KNeighborsClassifier\n",
        "neigh = KNeighborsClassifier(n_neighbors=3)\n",
        "scores = cross_val_score(neigh, Xtr, y_tr, cv=10)\n",
        "print('KNN 10 fold Accuracy: ', scores.mean(), scores.std())"
      ],
      "execution_count": 0,
      "outputs": [
        {
          "output_type": "stream",
          "text": [
            "SVM 10 fold CV Accuracy:  0.9497245201739585 0.01834245265625264\n",
            "Random Forest 10 fold Accuracy:  0.8391111385493408 0.044957787372477784\n",
            "Decision Tree 10 fold Accuracy:  0.7846270458630009 0.052032461612877265\n",
            "KNN 10 fold Accuracy:  0.8649161076127369 0.03530213389821354\n"
          ],
          "name": "stdout"
        }
      ]
    },
    {
      "metadata": {
        "id": "lGwsj_60TU7P",
        "colab_type": "code",
        "outputId": "e714ef0a-4921-471f-8e3d-b5988f3ccd89",
        "colab": {
          "base_uri": "https://localhost:8080/",
          "height": 53
        }
      },
      "cell_type": "code",
      "source": [
        "# test\n",
        "from sklearn.preprocessing import StandardScaler\n",
        "\n",
        "scaler = StandardScaler()\n",
        "scaler.fit(fx_ts)\n",
        "\n",
        "print(scaler.mean_)\n",
        "\n",
        "\n",
        "Xts = scaler.transform(fx_ts)"
      ],
      "execution_count": 0,
      "outputs": [
        {
          "output_type": "stream",
          "text": [
            "[0.00000000e+00 0.00000000e+00 1.05468394e-05 ... 2.00974587e+00\n",
            " 0.00000000e+00 0.00000000e+00]\n"
          ],
          "name": "stdout"
        }
      ]
    },
    {
      "metadata": {
        "id": "w_FWJx1heFbi",
        "colab_type": "code",
        "outputId": "6afc7563-3a0b-42de-c3e3-6a5dc2526413",
        "colab": {
          "base_uri": "https://localhost:8080/",
          "height": 53
        }
      },
      "cell_type": "code",
      "source": [
        "print(np.mean(Xts)) # MEAN IS ZERO \n",
        "print(np.var(Xts)) # VARIANCE IS 1"
      ],
      "execution_count": 0,
      "outputs": [
        {
          "output_type": "stream",
          "text": [
            "6.181099e-10\n",
            "0.34895825\n"
          ],
          "name": "stdout"
        }
      ]
    },
    {
      "metadata": {
        "id": "Ex0oEgLDeKHQ",
        "colab_type": "code",
        "colab": {}
      },
      "cell_type": "code",
      "source": [
        "clf1.fit(Xtr,y_tr)\n",
        "y_p1 = clf1.predict(Xts)"
      ],
      "execution_count": 0,
      "outputs": []
    },
    {
      "metadata": {
        "id": "vOCqF0lYfeSx",
        "colab_type": "code",
        "outputId": "51dc0b54-5a0a-40b1-bf38-010b56012b5f",
        "colab": {
          "base_uri": "https://localhost:8080/",
          "height": 235
        }
      },
      "cell_type": "code",
      "source": [
        "from sklearn.metrics import recall_score, average_precision_score, f1_score, accuracy_score, confusion_matrix\n",
        "print('SVM test result:\\nrecall\\nprecision\\nf1\\naccuracy\\nconfusion_matrix')\n",
        "print(recall_score(y_ts, y_p1))\n",
        "print(average_precision_score(y_ts, y_p1))\n",
        "print(f1_score(y_ts, y_p1))\n",
        "print(accuracy_score(y_ts, y_p1))\n",
        "print(confusion_matrix(y_ts, y_p1))"
      ],
      "execution_count": 0,
      "outputs": [
        {
          "output_type": "stream",
          "text": [
            "SVM test result:\n",
            "recall\n",
            "precision\n",
            "f1\n",
            "accuracy\n",
            "confusion_matrix\n",
            "0.9380530973451328\n",
            "0.9270484533205773\n",
            "0.9464285714285714\n",
            "0.9464285714285714\n",
            "[[106   5]\n",
            " [  7 106]]\n"
          ],
          "name": "stdout"
        }
      ]
    },
    {
      "metadata": {
        "id": "pU03UfHbiOXJ",
        "colab_type": "code",
        "colab": {}
      },
      "cell_type": "code",
      "source": [
        "clf2.fit(Xtr,y_tr)\n",
        "y_p1 = clf2.predict(Xts)"
      ],
      "execution_count": 0,
      "outputs": []
    },
    {
      "metadata": {
        "id": "MU8PUAatiTRw",
        "colab_type": "code",
        "outputId": "44cf8f79-aca0-4926-a6d4-2c3bac3a0344",
        "colab": {
          "base_uri": "https://localhost:8080/",
          "height": 235
        }
      },
      "cell_type": "code",
      "source": [
        "from sklearn.metrics import recall_score, average_precision_score, f1_score, accuracy_score, confusion_matrix\n",
        "print('RF test result:\\nrecall\\nprecision\\nf1\\naccuracy\\nconfusion_matrix')\n",
        "print(recall_score(y_ts, y_p1))\n",
        "print(average_precision_score(y_ts, y_p1))\n",
        "print(f1_score(y_ts, y_p1))\n",
        "print(accuracy_score(y_ts, y_p1))\n",
        "print(confusion_matrix(y_ts, y_p1))"
      ],
      "execution_count": 0,
      "outputs": [
        {
          "output_type": "stream",
          "text": [
            "RF test result:\n",
            "recall\n",
            "precision\n",
            "f1\n",
            "accuracy\n",
            "confusion_matrix\n",
            "0.7610619469026548\n",
            "0.7155477818641536\n",
            "0.7713004484304933\n",
            "0.7723214285714286\n",
            "[[87 24]\n",
            " [27 86]]\n"
          ],
          "name": "stdout"
        }
      ]
    },
    {
      "metadata": {
        "id": "NVA9jC_OihIY",
        "colab_type": "code",
        "colab": {}
      },
      "cell_type": "code",
      "source": [
        "clf3.fit(Xtr,y_tr)\n",
        "y_p1 = clf3.predict(Xts)"
      ],
      "execution_count": 0,
      "outputs": []
    },
    {
      "metadata": {
        "id": "guHMDDnEig15",
        "colab_type": "code",
        "outputId": "d602ae20-d2fc-4b7d-f54b-4afb9553b0cb",
        "colab": {
          "base_uri": "https://localhost:8080/",
          "height": 235
        }
      },
      "cell_type": "code",
      "source": [
        "from sklearn.metrics import recall_score, average_precision_score, f1_score, accuracy_score, confusion_matrix\n",
        "print('DTree test result:\\nrecall\\nprecision\\nf1\\naccuracy\\nconfusion_matrix')\n",
        "print(recall_score(y_ts, y_p1))\n",
        "print(average_precision_score(y_ts, y_p1))\n",
        "print(f1_score(y_ts, y_p1))\n",
        "print(accuracy_score(y_ts, y_p1))\n",
        "print(confusion_matrix(y_ts, y_p1))"
      ],
      "execution_count": 0,
      "outputs": [
        {
          "output_type": "stream",
          "text": [
            "DTree test result:\n",
            "recall\n",
            "precision\n",
            "f1\n",
            "accuracy\n",
            "confusion_matrix\n",
            "0.7699115044247787\n",
            "0.7036354714219176\n",
            "0.7665198237885462\n",
            "0.7633928571428571\n",
            "[[84 27]\n",
            " [26 87]]\n"
          ],
          "name": "stdout"
        }
      ]
    },
    {
      "metadata": {
        "id": "3ft0T_c5igjA",
        "colab_type": "code",
        "colab": {}
      },
      "cell_type": "code",
      "source": [
        "neigh.fit(Xtr,y_tr)\n",
        "y_p1 = neigh.predict(Xts)"
      ],
      "execution_count": 0,
      "outputs": []
    },
    {
      "metadata": {
        "id": "on6a5aZyiw8w",
        "colab_type": "code",
        "outputId": "86100596-d683-43e0-9ed9-43474b038361",
        "colab": {
          "base_uri": "https://localhost:8080/",
          "height": 235
        }
      },
      "cell_type": "code",
      "source": [
        "from sklearn.metrics import recall_score, average_precision_score, f1_score, accuracy_score, confusion_matrix\n",
        "print('KNN test result:\\nrecall\\nprecision\\nf1\\naccuracy\\nconfusion_matrix')\n",
        "print(recall_score(y_ts, y_p1))\n",
        "print(average_precision_score(y_ts, y_p1))\n",
        "print(f1_score(y_ts, y_p1))\n",
        "print(accuracy_score(y_ts, y_p1))\n",
        "print(confusion_matrix(y_ts, y_p1))"
      ],
      "execution_count": 0,
      "outputs": [
        {
          "output_type": "stream",
          "text": [
            "KNN test result:\n",
            "recall\n",
            "precision\n",
            "f1\n",
            "accuracy\n",
            "confusion_matrix\n",
            "0.8849557522123894\n",
            "0.8016960102625121\n",
            "0.8620689655172413\n",
            "0.8571428571428571\n",
            "[[ 92  19]\n",
            " [ 13 100]]\n"
          ],
          "name": "stdout"
        }
      ]
    },
    {
      "metadata": {
        "id": "QCJ1kd5N3-Hf",
        "colab_type": "code",
        "colab": {}
      },
      "cell_type": "code",
      "source": [
        "# ref: https://stackoverflow.com/questions/51231576/tensorflow-keras-expected-global-average-pooling2d-1-input-to-have-shape-1-1"
      ],
      "execution_count": 0,
      "outputs": []
    },
    {
      "metadata": {
        "id": "fCUFAfOERRRB",
        "colab_type": "code",
        "colab": {}
      },
      "cell_type": "code",
      "source": [
        ""
      ],
      "execution_count": 0,
      "outputs": []
    }
  ]
}