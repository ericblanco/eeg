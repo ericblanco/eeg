{
  "nbformat": 4,
  "nbformat_minor": 0,
  "metadata": {
    "colab": {
      "name": "bci_4_tl_sub2.ipynb",
      "version": "0.3.2",
      "provenance": [],
      "collapsed_sections": [],
      "include_colab_link": true
    },
    "kernelspec": {
      "name": "python3",
      "display_name": "Python 3"
    },
    "accelerator": "GPU"
  },
  "cells": [
    {
      "cell_type": "markdown",
      "metadata": {
        "id": "view-in-github",
        "colab_type": "text"
      },
      "source": [
        "<a href=\"https://colab.research.google.com/github/zabir-nabil/eeg-rsenet/blob/master/bci_4_tl_sub2.ipynb\" target=\"_parent\"><img src=\"https://colab.research.google.com/assets/colab-badge.svg\" alt=\"Open In Colab\"/></a>"
      ]
    },
    {
      "metadata": {
        "id": "8CKgAFkiFaSt",
        "colab_type": "code",
        "outputId": "b8dbe696-c636-4e7d-c3bd-f69daa9568f1",
        "colab": {
          "base_uri": "https://localhost:8080/",
          "height": 128
        }
      },
      "cell_type": "code",
      "source": [
        "# Load the Drive helper and mount\n",
        "from google.colab import drive\n",
        "\n",
        "# This will prompt for authorization.\n",
        "drive.mount('/content/drive')"
      ],
      "execution_count": 3,
      "outputs": [
        {
          "output_type": "stream",
          "text": [
            "Go to this URL in a browser: https://accounts.google.com/o/oauth2/auth?client_id=947318989803-6bn6qk8qdgf4n4g3pfee6491hc0brc4i.apps.googleusercontent.com&redirect_uri=urn%3Aietf%3Awg%3Aoauth%3A2.0%3Aoob&scope=email%20https%3A%2F%2Fwww.googleapis.com%2Fauth%2Fdocs.test%20https%3A%2F%2Fwww.googleapis.com%2Fauth%2Fdrive%20https%3A%2F%2Fwww.googleapis.com%2Fauth%2Fdrive.photos.readonly%20https%3A%2F%2Fwww.googleapis.com%2Fauth%2Fpeopleapi.readonly&response_type=code\n",
            "\n",
            "Enter your authorization code:\n",
            "··········\n",
            "Mounted at /content/drive\n"
          ],
          "name": "stdout"
        }
      ]
    },
    {
      "metadata": {
        "id": "NKrq6sysFgIR",
        "colab_type": "code",
        "outputId": "070c5ad7-9f02-40d4-c7aa-26893915e003",
        "colab": {
          "base_uri": "https://localhost:8080/",
          "height": 35
        }
      },
      "cell_type": "code",
      "source": [
        "% cd /content/drive/My Drive/subject 2 to 9/subject 2/"
      ],
      "execution_count": 4,
      "outputs": [
        {
          "output_type": "stream",
          "text": [
            "/content/drive/My Drive/subject 2 to 9/subject 2\n"
          ],
          "name": "stdout"
        }
      ]
    },
    {
      "metadata": {
        "id": "fvuKVJ0vFrq2",
        "colab_type": "code",
        "colab": {}
      },
      "cell_type": "code",
      "source": [
        "import glob\n",
        "\n",
        "cls1_ch1 = []\n",
        "cls1_ch2 = []\n",
        "cls1_ch3 = []\n",
        "\n",
        "cls2_ch1 = []\n",
        "cls2_ch2 = []\n",
        "cls2_ch3 = []\n",
        "\n",
        "for f in glob.glob('/content/drive/My Drive/subject 2 to 9/subject 2/lvl 1/ch 0/*.png'):\n",
        "  cls1_ch1.append(f)\n",
        "  \n",
        "for f in glob.glob('/content/drive/My Drive/subject 2 to 9/subject 2/lvl 1/ch 1/*.png'):\n",
        "  cls1_ch2.append(f)\n",
        "  \n",
        "for f in glob.glob('/content/drive/My Drive/subject 2 to 9/subject 2/lvl 1/ch 2/*.png'):\n",
        "  cls1_ch3.append(f)\n",
        "  \n",
        "for f in glob.glob('/content/drive/My Drive/subject 2 to 9/subject 2/lvl 2/ch 0/*.png'):\n",
        "  cls2_ch1.append(f)\n",
        "  \n",
        "for f in glob.glob('/content/drive/My Drive/subject 2 to 9/subject 2/lvl 2/ch 1/*.png'):\n",
        "  cls2_ch2.append(f)\n",
        "  \n",
        "for f in glob.glob('/content/drive/My Drive/subject 2 to 9/subject 2/lvl 2/ch 2/*.png'):\n",
        "  cls2_ch3.append(f)"
      ],
      "execution_count": 0,
      "outputs": []
    },
    {
      "metadata": {
        "id": "_3siVkxUF_PP",
        "colab_type": "code",
        "colab": {}
      },
      "cell_type": "code",
      "source": [
        "cls1_ch1.sort()\n",
        "cls1_ch2.sort()\n",
        "cls1_ch3.sort()\n",
        "\n",
        "cls2_ch1.sort()\n",
        "cls2_ch2.sort()\n",
        "cls2_ch3.sort()"
      ],
      "execution_count": 0,
      "outputs": []
    },
    {
      "metadata": {
        "id": "CXSTQPxSGEFW",
        "colab_type": "code",
        "outputId": "13b0137c-c39b-43f5-e190-af50596b285f",
        "colab": {
          "base_uri": "https://localhost:8080/",
          "height": 126
        }
      },
      "cell_type": "code",
      "source": [
        "print(len(cls1_ch1))\n",
        "print(len(cls1_ch2))\n",
        "print(len(cls1_ch3))\n",
        "\n",
        "print(len(cls2_ch1))\n",
        "print(len(cls2_ch2))\n",
        "print(len(cls2_ch3))"
      ],
      "execution_count": 7,
      "outputs": [
        {
          "output_type": "stream",
          "text": [
            "60\n",
            "60\n",
            "60\n",
            "60\n",
            "60\n",
            "60\n"
          ],
          "name": "stdout"
        }
      ]
    },
    {
      "metadata": {
        "id": "LTgx3sKqGvxs",
        "colab_type": "code",
        "outputId": "996b5039-f074-421e-9c69-9956119e2972",
        "colab": {
          "base_uri": "https://localhost:8080/",
          "height": 1109
        }
      },
      "cell_type": "code",
      "source": [
        "cls1_ch2"
      ],
      "execution_count": 8,
      "outputs": [
        {
          "output_type": "execute_result",
          "data": {
            "text/plain": [
              "['/content/drive/My Drive/subject 2 to 9/subject 2/lvl 1/ch 1/mi_0_1_1.png',\n",
              " '/content/drive/My Drive/subject 2 to 9/subject 2/lvl 1/ch 1/mi_10_1_1.png',\n",
              " '/content/drive/My Drive/subject 2 to 9/subject 2/lvl 1/ch 1/mi_11_1_1.png',\n",
              " '/content/drive/My Drive/subject 2 to 9/subject 2/lvl 1/ch 1/mi_12_1_1.png',\n",
              " '/content/drive/My Drive/subject 2 to 9/subject 2/lvl 1/ch 1/mi_13_1_1.png',\n",
              " '/content/drive/My Drive/subject 2 to 9/subject 2/lvl 1/ch 1/mi_14_1_1.png',\n",
              " '/content/drive/My Drive/subject 2 to 9/subject 2/lvl 1/ch 1/mi_15_1_1.png',\n",
              " '/content/drive/My Drive/subject 2 to 9/subject 2/lvl 1/ch 1/mi_16_1_1.png',\n",
              " '/content/drive/My Drive/subject 2 to 9/subject 2/lvl 1/ch 1/mi_17_1_1.png',\n",
              " '/content/drive/My Drive/subject 2 to 9/subject 2/lvl 1/ch 1/mi_18_1_1.png',\n",
              " '/content/drive/My Drive/subject 2 to 9/subject 2/lvl 1/ch 1/mi_19_1_1.png',\n",
              " '/content/drive/My Drive/subject 2 to 9/subject 2/lvl 1/ch 1/mi_1_1_1.png',\n",
              " '/content/drive/My Drive/subject 2 to 9/subject 2/lvl 1/ch 1/mi_20_1_1.png',\n",
              " '/content/drive/My Drive/subject 2 to 9/subject 2/lvl 1/ch 1/mi_21_1_1.png',\n",
              " '/content/drive/My Drive/subject 2 to 9/subject 2/lvl 1/ch 1/mi_22_1_1.png',\n",
              " '/content/drive/My Drive/subject 2 to 9/subject 2/lvl 1/ch 1/mi_23_1_1.png',\n",
              " '/content/drive/My Drive/subject 2 to 9/subject 2/lvl 1/ch 1/mi_24_1_1.png',\n",
              " '/content/drive/My Drive/subject 2 to 9/subject 2/lvl 1/ch 1/mi_25_1_1.png',\n",
              " '/content/drive/My Drive/subject 2 to 9/subject 2/lvl 1/ch 1/mi_26_1_1.png',\n",
              " '/content/drive/My Drive/subject 2 to 9/subject 2/lvl 1/ch 1/mi_27_1_1.png',\n",
              " '/content/drive/My Drive/subject 2 to 9/subject 2/lvl 1/ch 1/mi_28_1_1.png',\n",
              " '/content/drive/My Drive/subject 2 to 9/subject 2/lvl 1/ch 1/mi_29_1_1.png',\n",
              " '/content/drive/My Drive/subject 2 to 9/subject 2/lvl 1/ch 1/mi_2_1_1.png',\n",
              " '/content/drive/My Drive/subject 2 to 9/subject 2/lvl 1/ch 1/mi_30_1_1.png',\n",
              " '/content/drive/My Drive/subject 2 to 9/subject 2/lvl 1/ch 1/mi_31_1_1.png',\n",
              " '/content/drive/My Drive/subject 2 to 9/subject 2/lvl 1/ch 1/mi_32_1_1.png',\n",
              " '/content/drive/My Drive/subject 2 to 9/subject 2/lvl 1/ch 1/mi_33_1_1.png',\n",
              " '/content/drive/My Drive/subject 2 to 9/subject 2/lvl 1/ch 1/mi_34_1_1.png',\n",
              " '/content/drive/My Drive/subject 2 to 9/subject 2/lvl 1/ch 1/mi_35_1_1.png',\n",
              " '/content/drive/My Drive/subject 2 to 9/subject 2/lvl 1/ch 1/mi_36_1_1.png',\n",
              " '/content/drive/My Drive/subject 2 to 9/subject 2/lvl 1/ch 1/mi_37_1_1.png',\n",
              " '/content/drive/My Drive/subject 2 to 9/subject 2/lvl 1/ch 1/mi_38_1_1.png',\n",
              " '/content/drive/My Drive/subject 2 to 9/subject 2/lvl 1/ch 1/mi_39_1_1.png',\n",
              " '/content/drive/My Drive/subject 2 to 9/subject 2/lvl 1/ch 1/mi_3_1_1.png',\n",
              " '/content/drive/My Drive/subject 2 to 9/subject 2/lvl 1/ch 1/mi_40_1_1.png',\n",
              " '/content/drive/My Drive/subject 2 to 9/subject 2/lvl 1/ch 1/mi_41_1_1.png',\n",
              " '/content/drive/My Drive/subject 2 to 9/subject 2/lvl 1/ch 1/mi_42_1_1.png',\n",
              " '/content/drive/My Drive/subject 2 to 9/subject 2/lvl 1/ch 1/mi_43_1_1.png',\n",
              " '/content/drive/My Drive/subject 2 to 9/subject 2/lvl 1/ch 1/mi_44_1_1.png',\n",
              " '/content/drive/My Drive/subject 2 to 9/subject 2/lvl 1/ch 1/mi_45_1_1.png',\n",
              " '/content/drive/My Drive/subject 2 to 9/subject 2/lvl 1/ch 1/mi_46_1_1.png',\n",
              " '/content/drive/My Drive/subject 2 to 9/subject 2/lvl 1/ch 1/mi_47_1_1.png',\n",
              " '/content/drive/My Drive/subject 2 to 9/subject 2/lvl 1/ch 1/mi_48_1_1.png',\n",
              " '/content/drive/My Drive/subject 2 to 9/subject 2/lvl 1/ch 1/mi_49_1_1.png',\n",
              " '/content/drive/My Drive/subject 2 to 9/subject 2/lvl 1/ch 1/mi_4_1_1.png',\n",
              " '/content/drive/My Drive/subject 2 to 9/subject 2/lvl 1/ch 1/mi_50_1_1.png',\n",
              " '/content/drive/My Drive/subject 2 to 9/subject 2/lvl 1/ch 1/mi_51_1_1.png',\n",
              " '/content/drive/My Drive/subject 2 to 9/subject 2/lvl 1/ch 1/mi_52_1_1.png',\n",
              " '/content/drive/My Drive/subject 2 to 9/subject 2/lvl 1/ch 1/mi_53_1_1.png',\n",
              " '/content/drive/My Drive/subject 2 to 9/subject 2/lvl 1/ch 1/mi_54_1_1.png',\n",
              " '/content/drive/My Drive/subject 2 to 9/subject 2/lvl 1/ch 1/mi_55_1_1.png',\n",
              " '/content/drive/My Drive/subject 2 to 9/subject 2/lvl 1/ch 1/mi_56_1_1.png',\n",
              " '/content/drive/My Drive/subject 2 to 9/subject 2/lvl 1/ch 1/mi_57_1_1.png',\n",
              " '/content/drive/My Drive/subject 2 to 9/subject 2/lvl 1/ch 1/mi_58_1_1.png',\n",
              " '/content/drive/My Drive/subject 2 to 9/subject 2/lvl 1/ch 1/mi_59_1_1.png',\n",
              " '/content/drive/My Drive/subject 2 to 9/subject 2/lvl 1/ch 1/mi_5_1_1.png',\n",
              " '/content/drive/My Drive/subject 2 to 9/subject 2/lvl 1/ch 1/mi_6_1_1.png',\n",
              " '/content/drive/My Drive/subject 2 to 9/subject 2/lvl 1/ch 1/mi_7_1_1.png',\n",
              " '/content/drive/My Drive/subject 2 to 9/subject 2/lvl 1/ch 1/mi_8_1_1.png',\n",
              " '/content/drive/My Drive/subject 2 to 9/subject 2/lvl 1/ch 1/mi_9_1_1.png']"
            ]
          },
          "metadata": {
            "tags": []
          },
          "execution_count": 8
        }
      ]
    },
    {
      "metadata": {
        "id": "Ji7VSsvqGPFV",
        "colab_type": "code",
        "outputId": "1725ac72-e244-4b5d-eb5e-7ac113ef3224",
        "colab": {
          "base_uri": "https://localhost:8080/",
          "height": 1109
        }
      },
      "cell_type": "code",
      "source": [
        "import cv2\n",
        "\n",
        "x1 = []\n",
        "x2 = []\n",
        "x3 = []\n",
        "\n",
        "y = []\n",
        "\n",
        "for i in range(len(cls1_ch1)):\n",
        "  x1.append(cv2.resize(cv2.imread(cls1_ch1[i]), (224, 224)))\n",
        "  print(cls1_ch2[i])\n",
        "  x2.append(cv2.resize(cv2.imread(cls1_ch2[i]), (224, 224)))\n",
        "  x3.append(cv2.resize(cv2.imread(cls1_ch3[i]), (224, 224)))\n",
        "  \n",
        "  y.append(0)\n",
        "  \n",
        "for i in range(len(cls2_ch1)):\n",
        "  x1.append(cv2.resize(cv2.imread(cls2_ch1[i]), (224, 224)))\n",
        "  x2.append(cv2.resize(cv2.imread(cls2_ch2[i]), (224, 224)))\n",
        "  x3.append(cv2.resize(cv2.imread(cls2_ch3[i]), (224, 224)))\n",
        "  \n",
        "  y.append(1)"
      ],
      "execution_count": 9,
      "outputs": [
        {
          "output_type": "stream",
          "text": [
            "/content/drive/My Drive/subject 2 to 9/subject 2/lvl 1/ch 1/mi_0_1_1.png\n",
            "/content/drive/My Drive/subject 2 to 9/subject 2/lvl 1/ch 1/mi_10_1_1.png\n",
            "/content/drive/My Drive/subject 2 to 9/subject 2/lvl 1/ch 1/mi_11_1_1.png\n",
            "/content/drive/My Drive/subject 2 to 9/subject 2/lvl 1/ch 1/mi_12_1_1.png\n",
            "/content/drive/My Drive/subject 2 to 9/subject 2/lvl 1/ch 1/mi_13_1_1.png\n",
            "/content/drive/My Drive/subject 2 to 9/subject 2/lvl 1/ch 1/mi_14_1_1.png\n",
            "/content/drive/My Drive/subject 2 to 9/subject 2/lvl 1/ch 1/mi_15_1_1.png\n",
            "/content/drive/My Drive/subject 2 to 9/subject 2/lvl 1/ch 1/mi_16_1_1.png\n",
            "/content/drive/My Drive/subject 2 to 9/subject 2/lvl 1/ch 1/mi_17_1_1.png\n",
            "/content/drive/My Drive/subject 2 to 9/subject 2/lvl 1/ch 1/mi_18_1_1.png\n",
            "/content/drive/My Drive/subject 2 to 9/subject 2/lvl 1/ch 1/mi_19_1_1.png\n",
            "/content/drive/My Drive/subject 2 to 9/subject 2/lvl 1/ch 1/mi_1_1_1.png\n",
            "/content/drive/My Drive/subject 2 to 9/subject 2/lvl 1/ch 1/mi_20_1_1.png\n",
            "/content/drive/My Drive/subject 2 to 9/subject 2/lvl 1/ch 1/mi_21_1_1.png\n",
            "/content/drive/My Drive/subject 2 to 9/subject 2/lvl 1/ch 1/mi_22_1_1.png\n",
            "/content/drive/My Drive/subject 2 to 9/subject 2/lvl 1/ch 1/mi_23_1_1.png\n",
            "/content/drive/My Drive/subject 2 to 9/subject 2/lvl 1/ch 1/mi_24_1_1.png\n",
            "/content/drive/My Drive/subject 2 to 9/subject 2/lvl 1/ch 1/mi_25_1_1.png\n",
            "/content/drive/My Drive/subject 2 to 9/subject 2/lvl 1/ch 1/mi_26_1_1.png\n",
            "/content/drive/My Drive/subject 2 to 9/subject 2/lvl 1/ch 1/mi_27_1_1.png\n",
            "/content/drive/My Drive/subject 2 to 9/subject 2/lvl 1/ch 1/mi_28_1_1.png\n",
            "/content/drive/My Drive/subject 2 to 9/subject 2/lvl 1/ch 1/mi_29_1_1.png\n",
            "/content/drive/My Drive/subject 2 to 9/subject 2/lvl 1/ch 1/mi_2_1_1.png\n",
            "/content/drive/My Drive/subject 2 to 9/subject 2/lvl 1/ch 1/mi_30_1_1.png\n",
            "/content/drive/My Drive/subject 2 to 9/subject 2/lvl 1/ch 1/mi_31_1_1.png\n",
            "/content/drive/My Drive/subject 2 to 9/subject 2/lvl 1/ch 1/mi_32_1_1.png\n",
            "/content/drive/My Drive/subject 2 to 9/subject 2/lvl 1/ch 1/mi_33_1_1.png\n",
            "/content/drive/My Drive/subject 2 to 9/subject 2/lvl 1/ch 1/mi_34_1_1.png\n",
            "/content/drive/My Drive/subject 2 to 9/subject 2/lvl 1/ch 1/mi_35_1_1.png\n",
            "/content/drive/My Drive/subject 2 to 9/subject 2/lvl 1/ch 1/mi_36_1_1.png\n",
            "/content/drive/My Drive/subject 2 to 9/subject 2/lvl 1/ch 1/mi_37_1_1.png\n",
            "/content/drive/My Drive/subject 2 to 9/subject 2/lvl 1/ch 1/mi_38_1_1.png\n",
            "/content/drive/My Drive/subject 2 to 9/subject 2/lvl 1/ch 1/mi_39_1_1.png\n",
            "/content/drive/My Drive/subject 2 to 9/subject 2/lvl 1/ch 1/mi_3_1_1.png\n",
            "/content/drive/My Drive/subject 2 to 9/subject 2/lvl 1/ch 1/mi_40_1_1.png\n",
            "/content/drive/My Drive/subject 2 to 9/subject 2/lvl 1/ch 1/mi_41_1_1.png\n",
            "/content/drive/My Drive/subject 2 to 9/subject 2/lvl 1/ch 1/mi_42_1_1.png\n",
            "/content/drive/My Drive/subject 2 to 9/subject 2/lvl 1/ch 1/mi_43_1_1.png\n",
            "/content/drive/My Drive/subject 2 to 9/subject 2/lvl 1/ch 1/mi_44_1_1.png\n",
            "/content/drive/My Drive/subject 2 to 9/subject 2/lvl 1/ch 1/mi_45_1_1.png\n",
            "/content/drive/My Drive/subject 2 to 9/subject 2/lvl 1/ch 1/mi_46_1_1.png\n",
            "/content/drive/My Drive/subject 2 to 9/subject 2/lvl 1/ch 1/mi_47_1_1.png\n",
            "/content/drive/My Drive/subject 2 to 9/subject 2/lvl 1/ch 1/mi_48_1_1.png\n",
            "/content/drive/My Drive/subject 2 to 9/subject 2/lvl 1/ch 1/mi_49_1_1.png\n",
            "/content/drive/My Drive/subject 2 to 9/subject 2/lvl 1/ch 1/mi_4_1_1.png\n",
            "/content/drive/My Drive/subject 2 to 9/subject 2/lvl 1/ch 1/mi_50_1_1.png\n",
            "/content/drive/My Drive/subject 2 to 9/subject 2/lvl 1/ch 1/mi_51_1_1.png\n",
            "/content/drive/My Drive/subject 2 to 9/subject 2/lvl 1/ch 1/mi_52_1_1.png\n",
            "/content/drive/My Drive/subject 2 to 9/subject 2/lvl 1/ch 1/mi_53_1_1.png\n",
            "/content/drive/My Drive/subject 2 to 9/subject 2/lvl 1/ch 1/mi_54_1_1.png\n",
            "/content/drive/My Drive/subject 2 to 9/subject 2/lvl 1/ch 1/mi_55_1_1.png\n",
            "/content/drive/My Drive/subject 2 to 9/subject 2/lvl 1/ch 1/mi_56_1_1.png\n",
            "/content/drive/My Drive/subject 2 to 9/subject 2/lvl 1/ch 1/mi_57_1_1.png\n",
            "/content/drive/My Drive/subject 2 to 9/subject 2/lvl 1/ch 1/mi_58_1_1.png\n",
            "/content/drive/My Drive/subject 2 to 9/subject 2/lvl 1/ch 1/mi_59_1_1.png\n",
            "/content/drive/My Drive/subject 2 to 9/subject 2/lvl 1/ch 1/mi_5_1_1.png\n",
            "/content/drive/My Drive/subject 2 to 9/subject 2/lvl 1/ch 1/mi_6_1_1.png\n",
            "/content/drive/My Drive/subject 2 to 9/subject 2/lvl 1/ch 1/mi_7_1_1.png\n",
            "/content/drive/My Drive/subject 2 to 9/subject 2/lvl 1/ch 1/mi_8_1_1.png\n",
            "/content/drive/My Drive/subject 2 to 9/subject 2/lvl 1/ch 1/mi_9_1_1.png\n"
          ],
          "name": "stdout"
        }
      ]
    },
    {
      "metadata": {
        "id": "rrFmsSrKGTNo",
        "colab_type": "code",
        "colab": {
          "base_uri": "https://localhost:8080/",
          "height": 201
        },
        "outputId": "50f6558a-f5e1-4df0-9430-7642a5274e92"
      },
      "cell_type": "code",
      "source": [
        "! pip install Augmentor "
      ],
      "execution_count": 10,
      "outputs": [
        {
          "output_type": "stream",
          "text": [
            "Collecting Augmentor\n",
            "  Downloading https://files.pythonhosted.org/packages/4d/f4/b0eaa9d3b4120a5450ac92d4417907ca60fad5749c1f50ed95f720792350/Augmentor-0.2.3-py2.py3-none-any.whl\n",
            "Requirement already satisfied: future>=0.16.0 in /usr/local/lib/python3.6/dist-packages (from Augmentor) (0.16.0)\n",
            "Requirement already satisfied: Pillow>=4.0.0 in /usr/local/lib/python3.6/dist-packages (from Augmentor) (4.0.0)\n",
            "Requirement already satisfied: tqdm>=4.9.0 in /usr/local/lib/python3.6/dist-packages (from Augmentor) (4.28.1)\n",
            "Requirement already satisfied: numpy>=1.11.0 in /usr/local/lib/python3.6/dist-packages (from Augmentor) (1.14.6)\n",
            "Requirement already satisfied: olefile in /usr/local/lib/python3.6/dist-packages (from Pillow>=4.0.0->Augmentor) (0.46)\n",
            "Installing collected packages: Augmentor\n",
            "Successfully installed Augmentor-0.2.3\n"
          ],
          "name": "stdout"
        }
      ]
    },
    {
      "metadata": {
        "id": "MUqRVe_CKQcV",
        "colab_type": "code",
        "colab": {}
      },
      "cell_type": "code",
      "source": [
        "z = list(zip(x1,x2,x3))"
      ],
      "execution_count": 0,
      "outputs": []
    },
    {
      "metadata": {
        "id": "MTYOOuuRKUOV",
        "colab_type": "code",
        "colab": {
          "base_uri": "https://localhost:8080/",
          "height": 35
        },
        "outputId": "d0eaa81c-0900-4ef5-d17a-4d89c306d50b"
      },
      "cell_type": "code",
      "source": [
        "print(len((z)))"
      ],
      "execution_count": 12,
      "outputs": [
        {
          "output_type": "stream",
          "text": [
            "120\n"
          ],
          "name": "stdout"
        }
      ]
    },
    {
      "metadata": {
        "id": "Ui7qI-A7KW1n",
        "colab_type": "code",
        "colab": {}
      },
      "cell_type": "code",
      "source": [
        "def unzip(z):\n",
        "  x1_p = [a[0] for a in z]\n",
        "  x2_p = [a[1] for a in z]\n",
        "  x3_p = [a[2] for a in z]\n",
        "  return x1_p, x2_p, x3_p"
      ],
      "execution_count": 0,
      "outputs": []
    },
    {
      "metadata": {
        "id": "kcWrWlFeKY6w",
        "colab_type": "code",
        "colab": {}
      },
      "cell_type": "code",
      "source": [
        "import random\n",
        "random.seed(1997)"
      ],
      "execution_count": 0,
      "outputs": []
    },
    {
      "metadata": {
        "id": "n82MCpLCKatu",
        "colab_type": "code",
        "colab": {}
      },
      "cell_type": "code",
      "source": [
        "import Augmentor\n",
        "\n",
        "p = Augmentor.DataPipeline(z, y)\n",
        "\n",
        "p.rotate(probability=0.2, max_left_rotation=5, max_right_rotation=5)\n",
        "p.flip_left_right(probability=0.2)\n",
        "p.zoom_random(probability=0.1, percentage_area=0.8)\n",
        "p.flip_top_bottom(probability=0.3)\n",
        "p.gaussian_distortion(probability=0.05, grid_width=4, grid_height=4, magnitude=3, corner='bell', method='in', mex=0.5, mey=0.5, sdx=0.05, sdy=0.05)\n",
        "p.random_brightness(probability=0.05, min_factor=0.7, max_factor=1.3)\n",
        "p.random_color(probability=0.05, min_factor=0.6, max_factor=0.9)\n",
        "p.random_contrast(probability=0.05, min_factor=0.6, max_factor=0.9)\n",
        "p.random_distortion(probability=0.2, grid_width=4, grid_height=4, magnitude=2)\n",
        "\n",
        "augmented_images, labels = p.sample(1000)"
      ],
      "execution_count": 0,
      "outputs": []
    },
    {
      "metadata": {
        "id": "MSEZ9wq-Kc1X",
        "colab_type": "code",
        "colab": {}
      },
      "cell_type": "code",
      "source": [
        "x1_p, x2_p, x3_p = unzip(augmented_images)\n",
        "y_p = labels"
      ],
      "execution_count": 0,
      "outputs": []
    },
    {
      "metadata": {
        "id": "MBsy5wyEKpKm",
        "colab_type": "code",
        "colab": {
          "base_uri": "https://localhost:8080/",
          "height": 35
        },
        "outputId": "6327532b-d6cf-4d72-9bf0-1f54166c96de"
      },
      "cell_type": "code",
      "source": [
        "print(augmented_images[9][2].shape)"
      ],
      "execution_count": 17,
      "outputs": [
        {
          "output_type": "stream",
          "text": [
            "(224, 224, 3)\n"
          ],
          "name": "stdout"
        }
      ]
    },
    {
      "metadata": {
        "id": "O9lVZS8eKrQ1",
        "colab_type": "code",
        "colab": {
          "base_uri": "https://localhost:8080/",
          "height": 72
        },
        "outputId": "0eb9d959-01f9-4a46-9e65-607c85fcb0ee"
      },
      "cell_type": "code",
      "source": [
        "print(len(x1_p))\n",
        "print(len(x2_p))\n",
        "print(len(x3_p))"
      ],
      "execution_count": 18,
      "outputs": [
        {
          "output_type": "stream",
          "text": [
            "1000\n",
            "1000\n",
            "1000\n"
          ],
          "name": "stdout"
        }
      ]
    },
    {
      "metadata": {
        "id": "_lVXToQ9Ktbg",
        "colab_type": "code",
        "colab": {}
      },
      "cell_type": "code",
      "source": [
        "x1.extend(x1_p)\n",
        "x2.extend(x2_p)\n",
        "x3.extend(x3_p)\n",
        "y.extend(y_p)"
      ],
      "execution_count": 0,
      "outputs": []
    },
    {
      "metadata": {
        "id": "_zUqiZAjKv5P",
        "colab_type": "code",
        "colab": {
          "base_uri": "https://localhost:8080/",
          "height": 90
        },
        "outputId": "bac487cb-4d62-4a23-9ff7-54a30481a489"
      },
      "cell_type": "code",
      "source": [
        "print(len(x1))\n",
        "print(len(x2))\n",
        "print(len(x3))\n",
        "print(len(y))"
      ],
      "execution_count": 20,
      "outputs": [
        {
          "output_type": "stream",
          "text": [
            "1120\n",
            "1120\n",
            "1120\n",
            "1120\n"
          ],
          "name": "stdout"
        }
      ]
    },
    {
      "metadata": {
        "id": "iE5Nqpb2KyJg",
        "colab_type": "code",
        "colab": {}
      },
      "cell_type": "code",
      "source": [
        "import random\n",
        "random.seed(100)\n",
        "zz = list(zip(x1, x2, x3, y))\n",
        "random.shuffle(zz)"
      ],
      "execution_count": 0,
      "outputs": []
    },
    {
      "metadata": {
        "id": "kT8WGi6BK0-X",
        "colab_type": "code",
        "colab": {}
      },
      "cell_type": "code",
      "source": [
        "z1 = [a[0] for a in zz]\n",
        "z2 = [a[1] for a in zz]\n",
        "z3 = [a[2] for a in zz]\n",
        "zy = [a[3] for a in zz]"
      ],
      "execution_count": 0,
      "outputs": []
    },
    {
      "metadata": {
        "id": "5kFZCdLfK3Dd",
        "colab_type": "code",
        "colab": {
          "base_uri": "https://localhost:8080/",
          "height": 35
        },
        "outputId": "a89f9bd2-0144-48c5-ceb2-adbed50d7f0d"
      },
      "cell_type": "code",
      "source": [
        "split = int(0.8*(len(z1)))\n",
        "print(split)"
      ],
      "execution_count": 23,
      "outputs": [
        {
          "output_type": "stream",
          "text": [
            "896\n"
          ],
          "name": "stdout"
        }
      ]
    },
    {
      "metadata": {
        "id": "gecYUdEhK5D5",
        "colab_type": "code",
        "colab": {}
      },
      "cell_type": "code",
      "source": [
        "x1_tr = z1[:split]\n",
        "x2_tr = z2[:split]\n",
        "x3_tr = z3[:split]\n",
        "y_tr = zy[:split]\n",
        "\n",
        "x1_ts = z1[split:]\n",
        "x2_ts = z2[split:]\n",
        "x3_ts = z3[split:]\n",
        "y_ts = zy[split:]"
      ],
      "execution_count": 0,
      "outputs": []
    },
    {
      "metadata": {
        "id": "BmHHFVj3K7cm",
        "colab_type": "code",
        "colab": {}
      },
      "cell_type": "code",
      "source": [
        "import numpy as np\n",
        "x1_tr = np.array(x1_tr, dtype = 'float32')\n",
        "x2_tr = np.array(x2_tr, dtype = 'float32')\n",
        "x3_tr = np.array(x3_tr, dtype = 'float32')\n",
        "y_tr = np.array(y_tr, dtype = 'float32')\n",
        "y_ts = np.array(y_ts, dtype = 'float32')"
      ],
      "execution_count": 0,
      "outputs": []
    },
    {
      "metadata": {
        "id": "qi9yHRP6K9yv",
        "colab_type": "code",
        "colab": {
          "base_uri": "https://localhost:8080/",
          "height": 35
        },
        "outputId": "7139842e-c25f-4bfb-fdd1-b529934cf164"
      },
      "cell_type": "code",
      "source": [
        "print(np.mean(x1_tr))"
      ],
      "execution_count": 26,
      "outputs": [
        {
          "output_type": "stream",
          "text": [
            "151.0883\n"
          ],
          "name": "stdout"
        }
      ]
    },
    {
      "metadata": {
        "id": "l1NEzIPHK_uV",
        "colab_type": "code",
        "colab": {}
      },
      "cell_type": "code",
      "source": [
        "x1_tr = x1_tr/255.\n",
        "x2_tr = x2_tr/255.\n",
        "x3_tr = x3_tr/255."
      ],
      "execution_count": 0,
      "outputs": []
    },
    {
      "metadata": {
        "id": "OwcM6pjQLB2v",
        "colab_type": "code",
        "colab": {
          "base_uri": "https://localhost:8080/",
          "height": 35
        },
        "outputId": "400d04a7-52c2-4a03-ff79-bf6881c244b1"
      },
      "cell_type": "code",
      "source": [
        "np.mean(x1_tr)"
      ],
      "execution_count": 28,
      "outputs": [
        {
          "output_type": "execute_result",
          "data": {
            "text/plain": [
              "0.59250474"
            ]
          },
          "metadata": {
            "tags": []
          },
          "execution_count": 28
        }
      ]
    },
    {
      "metadata": {
        "id": "dnvZrKhfLD4X",
        "colab_type": "code",
        "colab": {}
      },
      "cell_type": "code",
      "source": [
        "x1_ts = np.array(x1_ts, dtype = 'float32')\n",
        "x2_ts = np.array(x2_ts, dtype = 'float32')\n",
        "x3_ts = np.array(x3_ts, dtype = 'float32')"
      ],
      "execution_count": 0,
      "outputs": []
    },
    {
      "metadata": {
        "id": "OkqUKFu-LFx9",
        "colab_type": "code",
        "colab": {
          "base_uri": "https://localhost:8080/",
          "height": 35
        },
        "outputId": "013bdd08-5803-44c7-9f38-5f555bf68ca8"
      },
      "cell_type": "code",
      "source": [
        "print(np.mean(x1_ts))"
      ],
      "execution_count": 30,
      "outputs": [
        {
          "output_type": "stream",
          "text": [
            "153.14502\n"
          ],
          "name": "stdout"
        }
      ]
    },
    {
      "metadata": {
        "id": "AjJwOUvRLH22",
        "colab_type": "code",
        "colab": {}
      },
      "cell_type": "code",
      "source": [
        "x1_ts = x1_ts/255.\n",
        "x2_ts = x2_ts/255.\n",
        "x3_ts = x3_ts/255."
      ],
      "execution_count": 0,
      "outputs": []
    },
    {
      "metadata": {
        "id": "lpBQfIorLKBn",
        "colab_type": "code",
        "colab": {
          "base_uri": "https://localhost:8080/",
          "height": 35
        },
        "outputId": "cf1103ab-c450-4620-cc37-ad3c273d71c9"
      },
      "cell_type": "code",
      "source": [
        "print(np.mean(x1_ts))"
      ],
      "execution_count": 32,
      "outputs": [
        {
          "output_type": "stream",
          "text": [
            "0.60056776\n"
          ],
          "name": "stdout"
        }
      ]
    },
    {
      "metadata": {
        "id": "-V3Nk5WBLL7e",
        "colab_type": "code",
        "colab": {
          "base_uri": "https://localhost:8080/",
          "height": 146
        },
        "outputId": "94a2961f-6285-4ba3-b6f6-fb1a794bd0d2"
      },
      "cell_type": "code",
      "source": [
        "from keras.applications.resnet50 import ResNet50\n",
        "from keras.preprocessing import image\n",
        "from keras.applications.resnet50 import preprocess_input\n",
        "\n",
        "model = ResNet50(weights='imagenet', include_top=False, pooling=\"avg\")"
      ],
      "execution_count": 33,
      "outputs": [
        {
          "output_type": "stream",
          "text": [
            "Using TensorFlow backend.\n"
          ],
          "name": "stderr"
        },
        {
          "output_type": "stream",
          "text": [
            "WARNING:tensorflow:From /usr/local/lib/python3.6/dist-packages/tensorflow/python/framework/op_def_library.py:263: colocate_with (from tensorflow.python.framework.ops) is deprecated and will be removed in a future version.\n",
            "Instructions for updating:\n",
            "Colocations handled automatically by placer.\n",
            "Downloading data from https://github.com/fchollet/deep-learning-models/releases/download/v0.2/resnet50_weights_tf_dim_ordering_tf_kernels_notop.h5\n",
            "94658560/94653016 [==============================] - 69s 1us/step\n"
          ],
          "name": "stdout"
        }
      ]
    },
    {
      "metadata": {
        "id": "VzmcvTnXLOm-",
        "colab_type": "code",
        "colab": {
          "base_uri": "https://localhost:8080/",
          "height": 35
        },
        "outputId": "2312cd82-08fb-4155-b788-d1f622617a15"
      },
      "cell_type": "code",
      "source": [
        "x1_tr.shape"
      ],
      "execution_count": 34,
      "outputs": [
        {
          "output_type": "execute_result",
          "data": {
            "text/plain": [
              "(896, 224, 224, 3)"
            ]
          },
          "metadata": {
            "tags": []
          },
          "execution_count": 34
        }
      ]
    },
    {
      "metadata": {
        "id": "-rB6ROFxLdgK",
        "colab_type": "code",
        "colab": {
          "base_uri": "https://localhost:8080/",
          "height": 72
        },
        "outputId": "1cf3b039-e106-44a6-90a9-1369ef536e31"
      },
      "cell_type": "code",
      "source": [
        "fx1_tr = model.predict(x1_tr)\n",
        "print(fx1_tr.shape)\n",
        "\n",
        "\n",
        "fx2_tr = model.predict(x2_tr)\n",
        "print(fx2_tr.shape)\n",
        "\n",
        "fx3_tr = model.predict(x3_tr)\n",
        "print(fx3_tr.shape)"
      ],
      "execution_count": 35,
      "outputs": [
        {
          "output_type": "stream",
          "text": [
            "(896, 2048)\n",
            "(896, 2048)\n",
            "(896, 2048)\n"
          ],
          "name": "stdout"
        }
      ]
    },
    {
      "metadata": {
        "id": "VoaVId9dLfeJ",
        "colab_type": "code",
        "colab": {
          "base_uri": "https://localhost:8080/",
          "height": 35
        },
        "outputId": "bac18aa6-f6ba-4b77-90d1-3b3b43c0be34"
      },
      "cell_type": "code",
      "source": [
        "fx_tr = np.concatenate((fx1_tr, fx2_tr, fx3_tr), axis=-1)\n",
        "print(fx_tr.shape)"
      ],
      "execution_count": 36,
      "outputs": [
        {
          "output_type": "stream",
          "text": [
            "(896, 6144)\n"
          ],
          "name": "stdout"
        }
      ]
    },
    {
      "metadata": {
        "id": "VB7vUiPGOIGv",
        "colab_type": "code",
        "colab": {
          "base_uri": "https://localhost:8080/",
          "height": 72
        },
        "outputId": "d1d21284-6628-4fa8-8336-dbb272ee7468"
      },
      "cell_type": "code",
      "source": [
        "fx1_ts = model.predict(x1_ts)\n",
        "print(fx1_ts.shape)\n",
        "\n",
        "\n",
        "fx2_ts = model.predict(x2_ts)\n",
        "print(fx2_ts.shape)\n",
        "\n",
        "fx3_ts = model.predict(x3_ts)\n",
        "print(fx3_ts.shape)"
      ],
      "execution_count": 37,
      "outputs": [
        {
          "output_type": "stream",
          "text": [
            "(224, 2048)\n",
            "(224, 2048)\n",
            "(224, 2048)\n"
          ],
          "name": "stdout"
        }
      ]
    },
    {
      "metadata": {
        "id": "uMeCTD-BOLKu",
        "colab_type": "code",
        "colab": {
          "base_uri": "https://localhost:8080/",
          "height": 35
        },
        "outputId": "fd89163e-3546-4c2e-852e-27fe3d2501ba"
      },
      "cell_type": "code",
      "source": [
        "fx_ts = np.concatenate((fx1_ts, fx2_ts, fx3_ts), axis=-1)\n",
        "print(fx_ts.shape)"
      ],
      "execution_count": 38,
      "outputs": [
        {
          "output_type": "stream",
          "text": [
            "(224, 6144)\n"
          ],
          "name": "stdout"
        }
      ]
    },
    {
      "metadata": {
        "id": "0RkRW6PNORq4",
        "colab_type": "code",
        "colab": {}
      },
      "cell_type": "code",
      "source": [
        "from sklearn.manifold import TSNE\n",
        "tsne = TSNE(n_components=2, random_state=0)"
      ],
      "execution_count": 0,
      "outputs": []
    },
    {
      "metadata": {
        "id": "9Xc0m5b-OUfg",
        "colab_type": "code",
        "colab": {}
      },
      "cell_type": "code",
      "source": [
        "X_2d = tsne.fit_transform(fx_tr)"
      ],
      "execution_count": 0,
      "outputs": []
    },
    {
      "metadata": {
        "id": "VCGlquiEOW73",
        "colab_type": "code",
        "colab": {
          "base_uri": "https://localhost:8080/",
          "height": 35
        },
        "outputId": "f97a042e-8eed-44bd-d66e-b1d5287c2953"
      },
      "cell_type": "code",
      "source": [
        "X_2d.shape"
      ],
      "execution_count": 41,
      "outputs": [
        {
          "output_type": "execute_result",
          "data": {
            "text/plain": [
              "(896, 2)"
            ]
          },
          "metadata": {
            "tags": []
          },
          "execution_count": 41
        }
      ]
    },
    {
      "metadata": {
        "id": "cHLqmYXsOcdG",
        "colab_type": "code",
        "colab": {
          "base_uri": "https://localhost:8080/",
          "height": 931
        },
        "outputId": "464a52a4-ed34-4845-b5ae-7c3bced84e33"
      },
      "cell_type": "code",
      "source": [
        "import matplotlib.pyplot as plt\n",
        "\n",
        "plt.figure(figsize=(20,14))\n",
        "\n",
        "B_SIZE = 10\n",
        "axis_font = {'fontname':'Arial', 'size':'30'}\n",
        "plt.rc('font', size=B_SIZE)          # controls default text sizes\n",
        "plt.rc('axes', titlesize=B_SIZE+5)     # fontsize of the axes title\n",
        "plt.rc('axes', labelsize=B_SIZE+5)    # fontsize of the x and y labels\n",
        "plt.rc('xtick', labelsize=B_SIZE-5)    # fontsize of the tick labels\n",
        "plt.rc('ytick', labelsize=B_SIZE-5)    # fontsize of the tick labels\n",
        "plt.rc('legend', fontsize=B_SIZE+5)    # legend fontsize\n",
        "plt.rc('figure', titlesize=B_SIZE)  # fontsize of the figure title\n",
        "#plt.rc('xlabel', titlesize=B_SIZE+10)\n",
        "#plt.rc('ylabel', titlesize=B_SIZE+10)\n",
        "labels = [0, 1]\n",
        "class_label = ['Class 0', 'Class 1']\n",
        "\n",
        "plt.figure(figsize=(20,15))\n",
        "plt.title('t-SNE for eeg features (subject 2)', fontweight='bold')\n",
        "plt.xlabel('dim 1')\n",
        "plt.ylabel('dim 2')\n",
        "colors = 'b', 'g'\n",
        "for i, c, label in zip(labels, colors, class_label):\n",
        "    plt.scatter(X_2d[y_tr == i, 0], X_2d[y_tr == i, 1], c=c,\n",
        "                label=label, alpha=0.8, linewidths=2, edgecolors ='k',\n",
        "               s=100)\n",
        "plt.legend()\n",
        "# plt.savefig('tsne_feature_plot_2.png', bbox_inches='tight')\n",
        "plt.show()"
      ],
      "execution_count": 45,
      "outputs": [
        {
          "output_type": "display_data",
          "data": {
            "text/plain": [
              "<Figure size 1440x1008 with 0 Axes>"
            ]
          },
          "metadata": {
            "tags": []
          }
        },
        {
          "output_type": "display_data",
          "data": {
            "image/png": "[encoded data removed]",
            "text/plain": [
              "<Figure size 1440x1080 with 1 Axes>"
            ]
          },
          "metadata": {
            "tags": []
          }
        }
      ]
    },
    {
      "metadata": {
        "id": "CFGTjXWTOfOI",
        "colab_type": "code",
        "colab": {
          "base_uri": "https://localhost:8080/",
          "height": 53
        },
        "outputId": "eceed309-89db-42ae-cdc7-69780bdc3b1d"
      },
      "cell_type": "code",
      "source": [
        "from sklearn.preprocessing import StandardScaler\n",
        "\n",
        "scaler = StandardScaler()\n",
        "scaler.fit(fx_tr)\n",
        "\n",
        "print(scaler.mean_)\n",
        "\n",
        "\n",
        "Xtr = scaler.transform(fx_tr)"
      ],
      "execution_count": 46,
      "outputs": [
        {
          "output_type": "stream",
          "text": [
            "[0.00000000e+00 0.00000000e+00 3.95875873e-05 ... 1.99013342e+00\n",
            " 0.00000000e+00 0.00000000e+00]\n"
          ],
          "name": "stdout"
        }
      ]
    },
    {
      "metadata": {
        "id": "JCTkPZkZOys4",
        "colab_type": "code",
        "colab": {
          "base_uri": "https://localhost:8080/",
          "height": 53
        },
        "outputId": "8cffc23b-1a37-4f8a-9c30-7d1936b666a4"
      },
      "cell_type": "code",
      "source": [
        "print(np.mean(Xtr)) # MEAN IS ZERO \n",
        "print(np.var(Xtr)) # VARIANCE IS 1"
      ],
      "execution_count": 47,
      "outputs": [
        {
          "output_type": "stream",
          "text": [
            "-1.2639377e-09\n",
            "0.36718744\n"
          ],
          "name": "stdout"
        }
      ]
    },
    {
      "metadata": {
        "id": "r94pXT8qO3l_",
        "colab_type": "code",
        "colab": {}
      },
      "cell_type": "code",
      "source": [
        "class_weight = {0: 0.5, 1: 0.5} "
      ],
      "execution_count": 0,
      "outputs": []
    },
    {
      "metadata": {
        "id": "gx_54Ho1O6sf",
        "colab_type": "code",
        "colab": {
          "base_uri": "https://localhost:8080/",
          "height": 90
        },
        "outputId": "20ecbbf0-12e9-4c47-ea52-817a9a3bf8d1"
      },
      "cell_type": "code",
      "source": [
        "from sklearn.model_selection import cross_val_score\n",
        "from sklearn import svm\n",
        "\n",
        "clf1 = svm.SVC(kernel='linear', C=10, class_weight = class_weight)\n",
        "scores = cross_val_score(clf1, Xtr, y_tr, cv=10)\n",
        "print('SVM 10 fold CV Accuracy: ', scores.mean(), scores.std())\n",
        "\n",
        "\n",
        "\n",
        "from sklearn.ensemble import RandomForestClassifier\n",
        "clf2 = RandomForestClassifier(n_estimators=10, max_depth=None,\n",
        "    min_samples_split=2, random_state=0, class_weight = class_weight)\n",
        "\n",
        "scores = cross_val_score(clf2, Xtr, y_tr, cv=10)\n",
        "print('Random Forest 10 fold Accuracy: ', scores.mean(), scores.std())\n",
        "\n",
        "\n",
        "\n",
        "from sklearn import tree\n",
        "clf3 = tree.DecisionTreeClassifier()\n",
        "\n",
        "scores = cross_val_score(clf3, Xtr, y_tr, cv=10)\n",
        "print('Decision Tree 10 fold Accuracy: ', scores.mean(), scores.std())\n",
        "\n",
        "\n",
        "from sklearn.neighbors import KNeighborsClassifier\n",
        "neigh = KNeighborsClassifier(n_neighbors=3)\n",
        "scores = cross_val_score(neigh, Xtr, y_tr, cv=10)\n",
        "print('KNN 10 fold Accuracy: ', scores.mean(), scores.std())"
      ],
      "execution_count": 49,
      "outputs": [
        {
          "output_type": "stream",
          "text": [
            "SVM 10 fold CV Accuracy:  0.9185354844905408 0.021837622562075307\n",
            "Random Forest 10 fold Accuracy:  0.7935115446351402 0.05131134216496535\n",
            "Decision Tree 10 fold Accuracy:  0.7778677751711459 0.0362439969217487\n",
            "KNN 10 fold Accuracy:  0.8193045780686228 0.047088242586991264\n"
          ],
          "name": "stdout"
        }
      ]
    },
    {
      "metadata": {
        "id": "YYDvojTiO9Uo",
        "colab_type": "code",
        "colab": {
          "base_uri": "https://localhost:8080/",
          "height": 53
        },
        "outputId": "bfafddcc-492e-49c4-bd39-9b18ec2c0221"
      },
      "cell_type": "code",
      "source": [
        "# test\n",
        "from sklearn.preprocessing import StandardScaler\n",
        "\n",
        "scaler = StandardScaler()\n",
        "scaler.fit(fx_ts)\n",
        "\n",
        "print(scaler.mean_)\n",
        "\n",
        "\n",
        "Xts = scaler.transform(fx_ts)"
      ],
      "execution_count": 50,
      "outputs": [
        {
          "output_type": "stream",
          "text": [
            "[0.00000000e+00 0.00000000e+00 8.74522292e-06 ... 1.97464153e+00\n",
            " 0.00000000e+00 0.00000000e+00]\n"
          ],
          "name": "stdout"
        }
      ]
    },
    {
      "metadata": {
        "id": "ghzYhvHVPN2n",
        "colab_type": "code",
        "colab": {
          "base_uri": "https://localhost:8080/",
          "height": 53
        },
        "outputId": "ba3a048a-7fad-449e-960d-5d79bacdc155"
      },
      "cell_type": "code",
      "source": [
        "print(np.mean(Xts)) # MEAN IS ZERO \n",
        "print(np.var(Xts)) # VARIANCE IS 1"
      ],
      "execution_count": 51,
      "outputs": [
        {
          "output_type": "stream",
          "text": [
            "4.0357313e-09\n",
            "0.35139978\n"
          ],
          "name": "stdout"
        }
      ]
    },
    {
      "metadata": {
        "id": "py6-qUEEPQLl",
        "colab_type": "code",
        "colab": {}
      },
      "cell_type": "code",
      "source": [
        "clf1.fit(Xtr,y_tr)\n",
        "y_p1 = clf1.predict(Xts)"
      ],
      "execution_count": 0,
      "outputs": []
    },
    {
      "metadata": {
        "id": "UMoAztTuPSM-",
        "colab_type": "code",
        "colab": {
          "base_uri": "https://localhost:8080/",
          "height": 235
        },
        "outputId": "224ac2a2-19df-4f9e-804b-2bf79da927cc"
      },
      "cell_type": "code",
      "source": [
        "from sklearn.metrics import recall_score, average_precision_score, f1_score, accuracy_score, confusion_matrix\n",
        "print('SVM test result:\\nrecall\\nprecision\\nf1\\naccuracy\\nconfusion_matrix')\n",
        "print(recall_score(y_ts, y_p1))\n",
        "print(average_precision_score(y_ts, y_p1))\n",
        "print(f1_score(y_ts, y_p1))\n",
        "print(accuracy_score(y_ts, y_p1))\n",
        "print(confusion_matrix(y_ts, y_p1))"
      ],
      "execution_count": 53,
      "outputs": [
        {
          "output_type": "stream",
          "text": [
            "SVM test result:\n",
            "recall\n",
            "precision\n",
            "f1\n",
            "accuracy\n",
            "confusion_matrix\n",
            "0.963302752293578\n",
            "0.9290894761078248\n",
            "0.9545454545454546\n",
            "0.9553571428571429\n",
            "[[109   6]\n",
            " [  4 105]]\n"
          ],
          "name": "stdout"
        }
      ]
    },
    {
      "metadata": {
        "id": "isM8a0RIPVyf",
        "colab_type": "code",
        "colab": {}
      },
      "cell_type": "code",
      "source": [
        "clf2.fit(Xtr,y_tr)\n",
        "y_p1 = clf2.predict(Xts)"
      ],
      "execution_count": 0,
      "outputs": []
    },
    {
      "metadata": {
        "id": "kacwZLwjPYS0",
        "colab_type": "code",
        "colab": {
          "base_uri": "https://localhost:8080/",
          "height": 235
        },
        "outputId": "5b324711-6750-49f8-8c70-8d15068cf29c"
      },
      "cell_type": "code",
      "source": [
        "from sklearn.metrics import recall_score, average_precision_score, f1_score, accuracy_score, confusion_matrix\n",
        "print('RF test result:\\nrecall\\nprecision\\nf1\\naccuracy\\nconfusion_matrix')\n",
        "print(recall_score(y_ts, y_p1))\n",
        "print(average_precision_score(y_ts, y_p1))\n",
        "print(f1_score(y_ts, y_p1))\n",
        "print(accuracy_score(y_ts, y_p1))\n",
        "print(confusion_matrix(y_ts, y_p1))"
      ],
      "execution_count": 55,
      "outputs": [
        {
          "output_type": "stream",
          "text": [
            "RF test result:\n",
            "recall\n",
            "precision\n",
            "f1\n",
            "accuracy\n",
            "confusion_matrix\n",
            "0.8165137614678899\n",
            "0.7813783311489734\n",
            "0.8317757009345795\n",
            "0.8392857142857143\n",
            "[[99 16]\n",
            " [20 89]]\n"
          ],
          "name": "stdout"
        }
      ]
    },
    {
      "metadata": {
        "id": "WJmHrjw2Paaw",
        "colab_type": "code",
        "colab": {}
      },
      "cell_type": "code",
      "source": [
        "clf3.fit(Xtr,y_tr)\n",
        "y_p1 = clf3.predict(Xts)"
      ],
      "execution_count": 0,
      "outputs": []
    },
    {
      "metadata": {
        "id": "mGne2IXlPczQ",
        "colab_type": "code",
        "colab": {
          "base_uri": "https://localhost:8080/",
          "height": 235
        },
        "outputId": "c08ccae5-e306-45be-86cb-502c4a4ea4d5"
      },
      "cell_type": "code",
      "source": [
        "from sklearn.metrics import recall_score, average_precision_score, f1_score, accuracy_score, confusion_matrix\n",
        "print('DTree test result:\\nrecall\\nprecision\\nf1\\naccuracy\\nconfusion_matrix')\n",
        "print(recall_score(y_ts, y_p1))\n",
        "print(average_precision_score(y_ts, y_p1))\n",
        "print(f1_score(y_ts, y_p1))\n",
        "print(accuracy_score(y_ts, y_p1))\n",
        "print(confusion_matrix(y_ts, y_p1))"
      ],
      "execution_count": 57,
      "outputs": [
        {
          "output_type": "stream",
          "text": [
            "DTree test result:\n",
            "recall\n",
            "precision\n",
            "f1\n",
            "accuracy\n",
            "confusion_matrix\n",
            "0.7706422018348624\n",
            "0.6213232448581542\n",
            "0.711864406779661\n",
            "0.6964285714285714\n",
            "[[72 43]\n",
            " [25 84]]\n"
          ],
          "name": "stdout"
        }
      ]
    },
    {
      "metadata": {
        "id": "HLyXF3SYPfQm",
        "colab_type": "code",
        "colab": {}
      },
      "cell_type": "code",
      "source": [
        "neigh.fit(Xtr,y_tr)\n",
        "y_p1 = neigh.predict(Xts)"
      ],
      "execution_count": 0,
      "outputs": []
    },
    {
      "metadata": {
        "id": "hOEQFkEaPhtn",
        "colab_type": "code",
        "colab": {
          "base_uri": "https://localhost:8080/",
          "height": 235
        },
        "outputId": "3ae82945-3bd9-4bbe-a9a2-8fdd7562ea6d"
      },
      "cell_type": "code",
      "source": [
        "from sklearn.metrics import recall_score, average_precision_score, f1_score, accuracy_score, confusion_matrix\n",
        "print('KNN test result:\\nrecall\\nprecision\\nf1\\naccuracy\\nconfusion_matrix')\n",
        "print(recall_score(y_ts, y_p1))\n",
        "print(average_precision_score(y_ts, y_p1))\n",
        "print(f1_score(y_ts, y_p1))\n",
        "print(accuracy_score(y_ts, y_p1))\n",
        "print(confusion_matrix(y_ts, y_p1))"
      ],
      "execution_count": 59,
      "outputs": [
        {
          "output_type": "stream",
          "text": [
            "KNN test result:\n",
            "recall\n",
            "precision\n",
            "f1\n",
            "accuracy\n",
            "confusion_matrix\n",
            "0.8899082568807339\n",
            "0.8041896974186564\n",
            "0.8660714285714286\n",
            "0.8660714285714286\n",
            "[[97 18]\n",
            " [12 97]]\n"
          ],
          "name": "stdout"
        }
      ]
    },
    {
      "metadata": {
        "id": "lcRR_IwPPkQg",
        "colab_type": "code",
        "colab": {}
      },
      "cell_type": "code",
      "source": [
        ""
      ],
      "execution_count": 0,
      "outputs": []
    }
  ]
}