{
 "cells": [
  {
   "cell_type": "code",
   "execution_count": 2,
   "metadata": {},
   "outputs": [],
   "source": [
    "from scipy import io, signal\n",
    "import matplotlib.pyplot as plt\n",
    "import dtcwt\n",
    "import numpy as np\n",
    "import itertools\n",
    "import pywt"
   ]
  },
  {
   "cell_type": "markdown",
   "metadata": {},
   "source": [
    "### DTCWT Sub-band Selection"
   ]
  },
  {
   "cell_type": "code",
   "execution_count": 3,
   "metadata": {},
   "outputs": [
    {
     "name": "stdout",
     "output_type": "stream",
     "text": [
      "(5, 1024, 270)\n",
      "(270, 1)\n",
      "(5, 1024, 180)\n",
      "(180, 1)\n"
     ]
    }
   ],
   "source": [
    "# Load DWT-denoised time-series data\n",
    "SubA = io.loadmat('DWT_A.mat')\n",
    "SubC = io.loadmat('DWT_C.mat')\n",
    "A_sig = SubA['DWT_A']\n",
    "A_lab = SubA['A_LAB']\n",
    "C_sig = SubC['DWT_C']\n",
    "C_lab = SubC['C_LAB']\n",
    "print(A_sig.shape)\n",
    "print(A_lab.shape)\n",
    "print(C_sig.shape)\n",
    "print(C_lab.shape)"
   ]
  },
  {
   "cell_type": "code",
   "execution_count": 4,
   "metadata": {},
   "outputs": [
    {
     "name": "stdout",
     "output_type": "stream",
     "text": [
      "(5, 1024, 450)\n",
      "(450, 1)\n"
     ]
    }
   ],
   "source": [
    "# Mixing two subjects' data\n",
    "SubX_sig = np.concatenate((A_sig, C_sig), axis=-1)\n",
    "print(SubX_sig.shape)\n",
    "SubX_lab = np.concatenate((A_lab, C_lab), axis=0)\n",
    "print(SubX_lab.shape)"
   ]
  },
  {
   "cell_type": "code",
   "execution_count": 20,
   "metadata": {
    "collapsed": true
   },
   "outputs": [],
   "source": [
    "# all g.tech [2-30], B - Neuroscan [0.1-100]\n",
    "# So, 3 level DTCWT\n",
    "# Lower complexity for feature extraction\n",
    "# Cite DTCWT?"
   ]
  },
  {
   "cell_type": "code",
   "execution_count": 5,
   "metadata": {},
   "outputs": [
    {
     "name": "stdout",
     "output_type": "stream",
     "text": [
      "(450, 128, 5)\n"
     ]
    }
   ],
   "source": [
    "n_ch, tp, sp = SubX_sig.shape\n",
    "A_sig_dtcwt = np.zeros((sp,(int)(tp/8),n_ch), dtype=np.float32)\n",
    "transform = dtcwt.Transform1d()\n",
    "for cs in range(sp):\n",
    "    for ch in range(n_ch):\n",
    "        vecs_t = transform.forward(SubX_sig[ch,:,cs], nlevels=3)\n",
    "        A_sig_dtcwt[cs,:,ch] = np.abs(vecs_t.highpasses[2]).reshape(int(tp/8))\n",
    "        # Took absoulute value\n",
    "        # May change\n",
    "print(A_sig_dtcwt.shape)"
   ]
  },
  {
   "cell_type": "code",
   "execution_count": 64,
   "metadata": {
    "scrolled": true
   },
   "outputs": [
    {
     "name": "stdout",
     "output_type": "stream",
     "text": [
      "512\n",
      "256\n",
      "128\n"
     ]
    }
   ],
   "source": [
    "print(len(vecs_t.highpasses[0]))\n",
    "print(len(vecs_t.highpasses[1]))\n",
    "print(len(vecs_t.highpasses[2]))"
   ]
  },
  {
   "cell_type": "code",
   "execution_count": 67,
   "metadata": {},
   "outputs": [
    {
     "name": "stdout",
     "output_type": "stream",
     "text": [
      "512\n",
      "512\n",
      "512\n"
     ]
    }
   ],
   "source": [
    "dtcwt_lev1 = np.abs(vecs_t.highpasses[0])\n",
    "dtcwt_lev2 = np.abs(np.repeat(vecs_t.highpasses[1],2))\n",
    "dtcwt_lev3 = np.abs(np.repeat(vecs_t.highpasses[2],4))\n",
    "print(len(dtcwt_lev1))\n",
    "print(len(dtcwt_lev2))\n",
    "print(len(dtcwt_lev3))"
   ]
  },
  {
   "cell_type": "code",
   "execution_count": 73,
   "metadata": {},
   "outputs": [
    {
     "name": "stdout",
     "output_type": "stream",
     "text": [
      "(3, 512)\n"
     ]
    }
   ],
   "source": [
    "dtcwt_lev = np.zeros((3,512), dtype=np.float32)\n",
    "dtcwt_lev[0] = dtcwt_lev1.reshape(512)\n",
    "dtcwt_lev[1] = dtcwt_lev2.reshape(512)\n",
    "dtcwt_lev[2] = dtcwt_lev3.reshape(512)\n",
    "print(dtcwt_lev.shape)"
   ]
  },
  {
   "cell_type": "code",
   "execution_count": 74,
   "metadata": {
    "collapsed": true
   },
   "outputs": [],
   "source": [
    "io.savemat('dtcwt_lev.mat', {'dtcwt_lev': dtcwt_lev})"
   ]
  },
  {
   "cell_type": "code",
   "execution_count": 22,
   "metadata": {
    "collapsed": true
   },
   "outputs": [],
   "source": [
    "# A_sig_dtcwt = A_sig # features taken from denoised signal"
   ]
  },
  {
   "cell_type": "code",
   "execution_count": null,
   "metadata": {
    "collapsed": true
   },
   "outputs": [],
   "source": []
  },
  {
   "cell_type": "markdown",
   "metadata": {},
   "source": [
    "### Feature Extraction"
   ]
  },
  {
   "cell_type": "code",
   "execution_count": null,
   "metadata": {
    "collapsed": true
   },
   "outputs": [],
   "source": []
  },
  {
   "cell_type": "code",
   "execution_count": 6,
   "metadata": {},
   "outputs": [
    {
     "name": "stderr",
     "output_type": "stream",
     "text": [
      "C:\\Anaconda3\\lib\\site-packages\\statsmodels\\compat\\pandas.py:56: FutureWarning: The pandas.core.datetools module is deprecated and will be removed in a future version. Please use the pandas.tseries module instead.\n",
      "  from pandas.core import datetools\n"
     ]
    }
   ],
   "source": [
    "import pandas as pd\n",
    "from numpy.linalg import LinAlgError\n",
    "from statsmodels.tsa.stattools import adfuller\n",
    "#1\n",
    "def AE(x): # Absolute Energy\n",
    "    x = np.asarray(x)\n",
    "    return sum(x * x)\n",
    "\n",
    "#2\n",
    "def SM2(y):\n",
    "    #t1 = time.time()\n",
    "    f, Pxx_den = signal.welch(y)\n",
    "    sm2 = 0\n",
    "    n = len(f)\n",
    "    for i in range(0,n):\n",
    "        sm2 += Pxx_den[i]*(f[i]**2)\n",
    "    \n",
    "    #t2 = time.time()\n",
    "    #print('time: ', t2-t2)\n",
    "    return sm2\n",
    "\n",
    "\n",
    "#3\n",
    "def LOG(y):\n",
    "    n = len(y)\n",
    "    return np.exp(np.sum(np.log(np.abs(y)))/n)\n",
    "\n",
    "#4\n",
    "def WL(x): # WL in primary manuscript\n",
    "    return np.sum(abs(np.diff(x)))\n",
    "\n",
    "#5\n",
    "def ADF(x): # teststat, pvalue, usedlag\n",
    "    # augmented dickey fuller\n",
    "    # returns a tuple\n",
    "    res = None\n",
    "    try:\n",
    "        res = adfuller(x)\n",
    "    except LinAlgError:\n",
    "        res = np.NaN, np.NaN, np.NaN\n",
    "    except ValueError:  # occurs if sample size is too small\n",
    "        #print('Length Error')\n",
    "        res = np.NaN, np.NaN, np.NaN\n",
    "\n",
    "    return res[0], res[1], res[2]\n",
    "\n",
    "\n",
    "#6\n",
    "def AC(x, lag=5): # autocorrelation\n",
    "\n",
    "    \"\"\"\n",
    "     [1] https://en.wikipedia.org/wiki/Autocorrelation#Estimation\n",
    "\n",
    "    \"\"\"\n",
    "    # This is important: If a series is passed, the product below is calculated\n",
    "    # based on the index, which corresponds to squaring the series.\n",
    "    if type(x) is pd.Series:\n",
    "        x = x.values\n",
    "    if len(x) < lag:\n",
    "        return np.nan\n",
    "    # Slice the relevant subseries based on the lag\n",
    "    y1 = x[:(len(x)-lag)]\n",
    "    y2 = x[lag:]\n",
    "    # Subtract the mean of the whole series x\n",
    "    x_mean = np.mean(x)\n",
    "    # The result is sometimes referred to as \"covariation\"\n",
    "    sum_product = np.sum((y1-x_mean)*(y2-x_mean))\n",
    "    # Return the normalized unbiased covariance\n",
    "    return sum_product / ((len(x) - lag) * np.var(x))\n",
    "\n",
    "#7\n",
    "def BE(x, max_bins=30): # binned entropy\n",
    "    hist, bin_edges = np.histogram(x, bins=max_bins)\n",
    "    probs = hist / len(x)\n",
    "    return - np.sum(p * np.math.log(p) for p in probs if p != 0)\n",
    "\n",
    "#8\n",
    "def C3(x, lag = 5): # c3 feature\n",
    "    n = len(x)\n",
    "    x = np.asarray(x)\n",
    "    if 2 * lag >= n:\n",
    "        return 0\n",
    "    else:\n",
    "        return np.mean((np.roll(x, 2 * -lag) * np.roll(x, -lag) * x)[0:(n - 2 * lag)])\n",
    "    \n",
    "    \n",
    "#9\n",
    "def CC(x, normalize=True): # cid ce\n",
    "    x = np.asarray(x)\n",
    "    if normalize:\n",
    "        s = np.std(x)\n",
    "        if s!=0:\n",
    "            x = (x - np.mean(x))/s\n",
    "        else:\n",
    "            return 0.0\n",
    "\n",
    "    x = np.diff(x)\n",
    "    return np.sqrt(np.sum((x * x)))\n",
    "\n",
    "\n",
    "#10\n",
    "def CAM(x): # count above mean\n",
    "    x = np.asarray(x)\n",
    "    m = np.mean(x)\n",
    "    return np.where(x > m)[0].shape[0]\n",
    "\n",
    "#11\n",
    "def CBM(x): # count below mean\n",
    "    x = np.asarray(x)\n",
    "    m = np.mean(x)\n",
    "    return np.where(x < m)[0].shape[0]\n",
    "\n",
    "\n",
    "#12\n",
    "def AAC(x): #AAC in primary manuscript\n",
    "    return np.mean(abs(np.diff(x)))\n",
    "\n",
    "#13\n",
    "def MSDC(x): # mean second derivative central\n",
    "    diff = (np.roll(x, 1) - 2 * np.array(x) + np.roll(x, -1)) / 2.0\n",
    "    return np.mean(diff[1:-1])\n",
    "\n",
    "#14\n",
    "def ZC(x, m = 0): # zero/mean crossing\n",
    "    # m = np.mean(x)\n",
    "    x = np.asarray(x)\n",
    "    x = x[x != m]\n",
    "    return sum(np.abs(np.diff(np.sign(x - m))))/2\n",
    "\n",
    "\n",
    "#15\n",
    "def SE(x): # sample entropy\n",
    "    \"\"\"\n",
    "    [1] http://en.wikipedia.org/wiki/Sample_Entropy\n",
    "    [2] https://www.ncbi.nlm.nih.gov/pubmed/10843903?dopt=Abstract\n",
    "    \"\"\"\n",
    "    x = np.array(x)\n",
    "\n",
    "    sample_length = 1 # number of sequential points of the time series\n",
    "    tolerance = 0.2 * np.std(x) # 0.2 is a common value for r - why?\n",
    "\n",
    "    n = len(x)\n",
    "    prev = np.zeros(n)\n",
    "    curr = np.zeros(n)\n",
    "    A = np.zeros((1, 1))  # number of matches for m = [1,...,template_length - 1]\n",
    "    B = np.zeros((1, 1))  # number of matches for m = [1,...,template_length]\n",
    "\n",
    "    for i in range(n - 1):\n",
    "        nj = n - i - 1\n",
    "        ts1 = x[i]\n",
    "        for jj in range(nj):\n",
    "            j = jj + i + 1\n",
    "            if abs(x[j] - ts1) < tolerance:  # distance between two vectors\n",
    "                curr[jj] = prev[jj] + 1\n",
    "                temp_ts_length = min(sample_length, curr[jj])\n",
    "                for m in range(int(temp_ts_length)):\n",
    "                    A[m] += 1\n",
    "                    if j < n - 1:\n",
    "                        B[m] += 1\n",
    "            else:\n",
    "                curr[jj] = 0\n",
    "        for j in range(nj):\n",
    "            prev[j] = curr[j]\n",
    "\n",
    "    N = n * (n - 1) / 2\n",
    "    B = np.vstack(([N], B[0]))\n",
    "\n",
    "    # sample entropy = -1 * (log (A/B))\n",
    "    similarity_ratio = A / B\n",
    "    se = -1 * np.log(similarity_ratio)\n",
    "    se = np.reshape(se, -1)\n",
    "    return se[0]\n",
    "\n",
    "#16\n",
    "def TRAS(x, lag=5):\n",
    "    # time reversal asymmetry statistic\n",
    "    \"\"\"\n",
    "    |  [1] Fulcher, B.D., Jones, N.S. (2014).\n",
    "    |  Highly comparative feature-based time-series classification.\n",
    "    |  Knowledge and Data Engineering, IEEE Transactions on 26, 3026–3037.\n",
    "    \"\"\"\n",
    "    n = len(x)\n",
    "    x = np.asarray(x)\n",
    "    if 2 * lag >= n:\n",
    "        return 0\n",
    "    else:\n",
    "        return np.mean((np.roll(x, 2 * -lag) * np.roll(x, 2 * -lag) * np.roll(x, -lag) -\n",
    "                        np.roll(x, -lag) * x * x)[0:(n - 2 * lag)])\n",
    "    \n",
    "    \n",
    "#17    \n",
    "def VAR(x): # variance \n",
    "    return np.var(x)"
   ]
  },
  {
   "cell_type": "code",
   "execution_count": 139,
   "metadata": {
    "collapsed": true
   },
   "outputs": [],
   "source": [
    "# excluded wavelet entropy, skewness, kurtosis, perm. entropy, multiscale entropy\n",
    "# not enough variance, NaN"
   ]
  },
  {
   "cell_type": "code",
   "execution_count": null,
   "metadata": {
    "collapsed": true,
    "scrolled": true
   },
   "outputs": [],
   "source": []
  },
  {
   "cell_type": "code",
   "execution_count": null,
   "metadata": {
    "collapsed": true
   },
   "outputs": [],
   "source": []
  },
  {
   "cell_type": "code",
   "execution_count": 7,
   "metadata": {},
   "outputs": [
    {
     "name": "stderr",
     "output_type": "stream",
     "text": [
      "C:\\Anaconda3\\lib\\site-packages\\scipy\\signal\\spectral.py:1637: UserWarning: nperseg = 256 is greater than input length  = 128, using nperseg = 128\n",
      "  .format(nperseg, input_length))\n"
     ]
    },
    {
     "name": "stdout",
     "output_type": "stream",
     "text": [
      "0.1.2.3.4.5.6.7.8.9.10.11.12.13.14.15.16.17.18.19.20.21.22.23.24.25.26.27.28.29.30.31.32.33.34.35.36.37.38.39.40.41.42.43.44.45.46.47.48.49.50.51.52.53.54.55.56.57.58.59.60.61.62.63.64.65.66.67.68.69.70.71.72.73.74.75.76.77.78.79.80.81.82.83.84.85.86.87.88.89.90.91.92.93.94.95.96.97.98.99.100.101.102.103.104.105.106.107.108.109.110.111.112.113.114.115.116.117.118.119.120.121.122.123.124.125.126.127.128.129.130.131.132.133.134.135.136.137.138.139.140.141.142.143.144.145.146.147.148.149.150.151.152.153.154.155.156.157.158.159.160.161.162.163.164.165.166.167.168.169.170.171.172.173.174.175.176.177.178.179.180.181.182.183.184.185.186.187.188.189.190.191.192.193.194.195.196.197.198.199.200.201.202.203.204.205.206.207.208.209.210.211.212.213.214.215.216.217.218.219.220.221.222.223.224.225.226.227.228.229.230.231.232.233.234.235.236.237.238.239.240.241.242.243.244.245.246.247.248.249.250.251.252.253.254.255.256.257.258.259.260.261.262.263.264.265.266.267.268.269.270.271.272.273.274.275.276.277.278.279.280.281.282.283.284.285.286.287.288.289.290.291.292.293.294.295.296.297.298.299.300.301.302.303.304.305.306.307.308.309.310.311.312.313.314.315.316.317.318.319.320.321.322.323.324.325.326.327.328.329.330.331.332.333.334.335.336.337.338.339.340.341.342.343.344.345.346.347.348.349.350.351.352.353.354.355.356.357.358.359.360.361.362.363.364.365.366.367.368.369.370.371.372.373.374.375.376.377.378.379.380.381.382.383.384.385.386.387.388.389.390.391.392.393.394.395.396.397.398.399.400.401.402.403.404.405.406.407.408.409.410.411.412.413.414.415.416.417.418.419.420.421.422.423.424.425.426.427.428.429.430.431.432.433.434.435.436.437.438.439.440.441.442.443.444.445.446.447.448.449.\n",
      "time:  108.16796398162842 s\n"
     ]
    }
   ],
   "source": [
    "n_features = 17\n",
    "n_features += 2 # ADF\n",
    "featuresAll = np.zeros((sp,n_ch*n_features), dtype = np.float32)\n",
    "import time\n",
    "t1 = time.time()\n",
    "# To-do: Optimize {PyPy didn't help}\n",
    "for cs in range(sp):\n",
    "    c_f = []\n",
    "    for ch in range(n_ch):\n",
    "        y = A_sig_dtcwt[cs,:,ch]\n",
    "        c_f.append(AE(y))\n",
    "        c_f.append(SM2(y))\n",
    "        c_f.append(LOG(y))\n",
    "        c_f.append(WL(y))\n",
    "        f1, f2, f3 = ADF(y)\n",
    "        c_f.append(f1)\n",
    "        c_f.append(f2)\n",
    "        c_f.append(f3)\n",
    "        c_f.append(AC(y))\n",
    "        c_f.append(BE(y))\n",
    "        c_f.append(C3(y))\n",
    "        c_f.append(CC(y))\n",
    "        c_f.append(CAM(y))\n",
    "        c_f.append(CBM(y))\n",
    "        c_f.append(AAC(y))\n",
    "        c_f.append(MSDC(y))\n",
    "        c_f.append(ZC(y))\n",
    "        c_f.append(SE(y))\n",
    "        c_f.append(TRAS(y))\n",
    "        c_f.append(VAR(y))\n",
    "    #c_f = np.array(c_f)\n",
    "    #c_f = c_f.reshape(n_ch*n_features)\n",
    "    featuresAll[cs,:] = c_f  \n",
    "    print(cs,end = '.')\n",
    "\n",
    "t2 = time.time()\n",
    "print('\\ntime: ',t2-t1,'s')"
   ]
  },
  {
   "cell_type": "code",
   "execution_count": 10,
   "metadata": {},
   "outputs": [
    {
     "data": {
      "text/plain": [
       "(450, 95)"
      ]
     },
     "execution_count": 10,
     "metadata": {},
     "output_type": "execute_result"
    }
   ],
   "source": [
    "featuresAll.shape"
   ]
  },
  {
   "cell_type": "markdown",
   "metadata": {},
   "source": [
    "### Feature Selection"
   ]
  },
  {
   "cell_type": "code",
   "execution_count": 9,
   "metadata": {
    "collapsed": true
   },
   "outputs": [],
   "source": [
    "def feature_name(id_):\n",
    "    #cid = id-1\n",
    "    channel = (id_//19) + 1\n",
    "    fid = id_%19\n",
    "    feat_nam = ['AE', 'SM2', 'LOG', 'WL', 'ADF I', \n",
    "               'ADF II', 'ADF III', 'AC', 'BE', 'C3',\n",
    "               'CC', 'CAM', 'CBM', 'AAC', 'MSDC', 'ZC', 'SE',\n",
    "               'TRAS', 'VAR']\n",
    "    return str(feat_nam[fid] + ' [%s]'%str(channel))"
   ]
  },
  {
   "cell_type": "code",
   "execution_count": 12,
   "metadata": {},
   "outputs": [
    {
     "name": "stdout",
     "output_type": "stream",
     "text": [
      "7.4996915\n",
      "398.1879\n"
     ]
    }
   ],
   "source": [
    "X_all = featuresAll\n",
    "y = SubX_lab.reshape(len(SubX_lab),)\n",
    "print(np.mean(X_all))\n",
    "print(np.var(X_all))"
   ]
  },
  {
   "cell_type": "code",
   "execution_count": 13,
   "metadata": {},
   "outputs": [
    {
     "name": "stdout",
     "output_type": "stream",
     "text": [
      "[ 1.1004589e-09  1.2669177e-11  1.5317845e-06  1.5746578e-04\n",
      " -4.3901339e+00  3.3335622e-02  3.6044445e+00  6.9551907e-02\n",
      "  2.9327700e+00  1.6360645e-17  1.0827678e+01  5.3311111e+01\n",
      "  7.4688889e+01  1.2398881e-06 -1.3684596e-09  0.0000000e+00\n",
      "  1.9884915e+00 -1.4918126e-18  3.3235706e-12  5.6031702e-10\n",
      "  6.4939846e-12  1.0894241e-06  1.0898085e-04 -4.7382946e+00\n",
      "  1.9407958e-02  3.4911110e+00  3.3362493e-02  2.9190478e+00\n",
      "  5.6624467e-18  1.0649881e+01  5.3157776e+01  7.4842224e+01\n",
      "  8.5811689e-07 -3.7070602e-10  0.0000000e+00  1.9782687e+00\n",
      " -1.9287489e-19  1.7318892e-12  6.8999562e-10  7.6177797e-12\n",
      "  1.0815531e-06  1.0974071e-04 -4.5805202e+00  1.9122403e-02\n",
      "  3.6355555e+00  1.6382523e-02  2.9286633e+00  7.9856463e-18\n",
      "  1.0704454e+01  5.3091110e+01  7.4908890e+01  8.6410103e-07\n",
      " -5.0707483e-10  0.0000000e+00  1.9844669e+00 -2.8502568e-18\n",
      "  2.3721866e-12  4.7287657e-10  4.5675352e-12  9.8957923e-07\n",
      "  9.5172079e-05 -4.6801443e+00  1.6372900e-02  3.3133333e+00\n",
      "  3.0616071e-02  2.9110911e+00  3.9497093e-18  1.0264223e+01\n",
      "  5.2831112e+01  7.5168892e+01  7.4938691e-07 -5.5893407e-10\n",
      "  0.0000000e+00  1.9775598e+00 -1.2133667e-18  1.5536798e-12\n",
      "  7.6409967e-10  9.6171083e-12  1.0616807e-06  1.0959289e-04\n",
      " -4.5710516e+00  1.5672931e-02  3.4088888e+00  3.5013363e-02\n",
      "  2.9233344e+00  1.2623086e-17  1.0711331e+01  5.3368889e+01\n",
      "  7.4631111e+01  8.6293619e-07 -8.5016288e-10  0.0000000e+00\n",
      "  1.9867821e+00  1.7299163e-19  2.6962248e-12]\n",
      "5.6573523e-08\n",
      "0.9733285\n"
     ]
    }
   ],
   "source": [
    "from sklearn.preprocessing import StandardScaler\n",
    "\n",
    "scaler = StandardScaler()\n",
    "scaler.fit(X_all)\n",
    "print(scaler.mean_)\n",
    "X_all = scaler.transform(X_all)\n",
    "\n",
    "print(np.mean(X_all))\n",
    "print(np.std(X_all))"
   ]
  },
  {
   "cell_type": "markdown",
   "metadata": {},
   "source": [
    "* Univariate feature selection"
   ]
  },
  {
   "cell_type": "code",
   "execution_count": 15,
   "metadata": {},
   "outputs": [
    {
     "name": "stdout",
     "output_type": "stream",
     "text": [
      "(450, 95)\n",
      "(450, 30)\n"
     ]
    },
    {
     "name": "stderr",
     "output_type": "stream",
     "text": [
      "C:\\Anaconda3\\lib\\site-packages\\sklearn\\utils\\__init__.py:54: FutureWarning: Conversion of the second argument of issubdtype from `int` to `np.signedinteger` is deprecated. In future, it will be treated as `np.int32 == np.dtype(int).type`.\n",
      "  if np.issubdtype(mask.dtype, np.int):\n"
     ]
    }
   ],
   "source": [
    "from sklearn.feature_selection import SelectKBest\n",
    "from sklearn.feature_selection import mutual_info_classif\n",
    "print(X_all.shape)\n",
    "X_fs_o = SelectKBest(mutual_info_classif, k=30)\n",
    "X_fs = X_fs_o.fit_transform(X_all, y)\n",
    "feature_ids = X_fs_o.get_support(indices=True)\n",
    "\n",
    "mi = mutual_info_classif(X_fs,y)\n",
    "\n",
    "print(X_fs.shape)"
   ]
  },
  {
   "cell_type": "code",
   "execution_count": 16,
   "metadata": {},
   "outputs": [
    {
     "name": "stdout",
     "output_type": "stream",
     "text": [
      "(450, 30)\n",
      "(450,)\n"
     ]
    }
   ],
   "source": [
    "print(X_fs.shape)\n",
    "print(y.shape)"
   ]
  },
  {
   "cell_type": "code",
   "execution_count": 75,
   "metadata": {
    "collapsed": true
   },
   "outputs": [],
   "source": [
    "np.save('features_AC.npy',X_fs)\n",
    "np.save('y_response.npy',y)"
   ]
  },
  {
   "cell_type": "code",
   "execution_count": 17,
   "metadata": {},
   "outputs": [
    {
     "name": "stdout",
     "output_type": "stream",
     "text": [
      "Mutual Information\n",
      "AE [1] :  0.31582225494351723\n",
      "SM2 [1] :  0.35705347256677666\n",
      "LOG [1] :  0.2778698681767624\n",
      "WL [1] :  0.33044142790732245\n",
      "C3 [1] :  0.3381129040609807\n",
      "AAC [1] :  0.33044142790732245\n",
      "VAR [1] :  0.31180619856046166\n",
      "AE [2] :  0.16104564518307019\n",
      "C3 [2] :  0.14738952501479674\n",
      "AE [3] :  0.20542499261622615\n",
      "SM2 [3] :  0.21040578192329074\n",
      "LOG [3] :  0.21698919033126662\n",
      "WL [3] :  0.24841595417786522\n",
      "C3 [3] :  0.23630282027795801\n",
      "AAC [3] :  0.24841595417786522\n",
      "VAR [3] :  0.1494534721521985\n",
      "AE [4] :  0.1817786134749413\n",
      "SM2 [4] :  0.2236372260832804\n",
      "LOG [4] :  0.1553048623129447\n",
      "WL [4] :  0.2112459876146109\n",
      "C3 [4] :  0.14077175042927492\n",
      "AAC [4] :  0.2112459876146109\n",
      "VAR [4] :  0.16997441930221235\n",
      "AE [5] :  0.2045245024934621\n",
      "SM2 [5] :  0.17361973248554619\n",
      "LOG [5] :  0.1582081153953312\n",
      "WL [5] :  0.19185799806220238\n",
      "C3 [5] :  0.18004597521489218\n",
      "AAC [5] :  0.19185799806220238\n",
      "VAR [5] :  0.16237023656816296\n"
     ]
    }
   ],
   "source": [
    "print('Mutual Information')\n",
    "features_sl = []\n",
    "for i in range(len(feature_ids)):\n",
    "    features_sl.append(feature_name(feature_ids[i]))\n",
    "    print(features_sl[i],': ',mi[i])"
   ]
  },
  {
   "cell_type": "markdown",
   "metadata": {},
   "source": [
    "* Feature importnace"
   ]
  },
  {
   "cell_type": "code",
   "execution_count": 23,
   "metadata": {
    "scrolled": true
   },
   "outputs": [
    {
     "name": "stderr",
     "output_type": "stream",
     "text": [
      "C:\\Anaconda3\\lib\\site-packages\\ipykernel_launcher.py:14: DataConversionWarning: A column-vector y was passed when a 1d array was expected. Please change the shape of y to (n_samples,), for example using ravel().\n",
      "  \n"
     ]
    },
    {
     "name": "stdout",
     "output_type": "stream",
     "text": [
      "Feature ranking:\n",
      "1. Feature SM2 [1] (0.075196)\n",
      "2. Feature WL [1] (0.066286)\n",
      "3. Feature AAC [1] (0.058747)\n",
      "4. Feature C3 [1] (0.054356)\n",
      "5. Feature LOG [1] (0.053231)\n",
      "6. Feature AAC [3] (0.048648)\n",
      "7. Feature WL [3] (0.046738)\n",
      "8. Feature SM2 [3] (0.042235)\n",
      "9. Feature AE [1] (0.039565)\n",
      "10. Feature VAR [1] (0.038063)\n",
      "11. Feature AAC [5] (0.031836)\n",
      "12. Feature LOG [5] (0.030498)\n",
      "13. Feature AAC [4] (0.028939)\n",
      "14. Feature WL [4] (0.028815)\n",
      "15. Feature LOG [3] (0.028376)\n",
      "16. Feature WL [5] (0.028200)\n",
      "17. Feature C3 [5] (0.027912)\n",
      "18. Feature AE [5] (0.027744)\n",
      "19. Feature SM2 [5] (0.025456)\n",
      "20. Feature SM2 [4] (0.025244)\n",
      "21. Feature LOG [4] (0.024864)\n",
      "22. Feature AE [3] (0.023810)\n",
      "23. Feature C3 [3] (0.021413)\n",
      "24. Feature VAR [5] (0.020410)\n",
      "25. Feature VAR [3] (0.019478)\n",
      "26. Feature C3 [2] (0.018154)\n",
      "27. Feature AE [2] (0.017457)\n",
      "28. Feature AE [4] (0.016973)\n",
      "29. Feature C3 [4] (0.016952)\n",
      "30. Feature VAR [4] (0.014404)\n"
     ]
    },
    {
     "data": {
      "image/png": "[encoded data removed]",
      "text/plain": [
       "<matplotlib.figure.Figure at 0x36956baf28>"
      ]
     },
     "metadata": {},
     "output_type": "display_data"
    }
   ],
   "source": [
    "import numpy as np\n",
    "import matplotlib.pyplot as plt\n",
    "\n",
    "from sklearn.datasets import make_classification\n",
    "from sklearn.ensemble import ExtraTreesClassifier\n",
    "\n",
    "X = X_fs\n",
    "y = SubX_lab\n",
    "\n",
    "# Build a forest from extra trees and compute the feature importances\n",
    "forest = ExtraTreesClassifier(n_estimators=250,\n",
    "                              random_state=0)\n",
    "\n",
    "forest.fit(X, y)\n",
    "importances = forest.feature_importances_\n",
    "std = np.std([tree.feature_importances_ for tree in forest.estimators_],\n",
    "             axis=0)\n",
    "indices = np.argsort(importances)[::-1]\n",
    "\n",
    "# Feature ranking according to forest classifier\n",
    "print(\"Feature ranking:\")\n",
    "\n",
    "for f in range(X.shape[1]):\n",
    "    print(\"%d. Feature %s (%f)\" % ( (f + 1), features_sl[indices[f]], importances[indices[f]]))\n",
    "\n",
    "# Plot the feature importances of the forest\n",
    "plt.figure(figsize=(40,30))\n",
    "\n",
    "B_SIZE = 30\n",
    "axis_font = {'fontname':'Arial', 'size':'30'}\n",
    "plt.rc('font', size=B_SIZE)          # controls default text sizes\n",
    "plt.rc('axes', titlesize=B_SIZE+10)     # fontsize of the axes title\n",
    "plt.rc('axes', labelsize=B_SIZE+10)    # fontsize of the x and y labels\n",
    "plt.rc('xtick', labelsize=B_SIZE-5)    # fontsize of the tick labels\n",
    "plt.rc('ytick', labelsize=B_SIZE-5)    # fontsize of the tick labels\n",
    "plt.rc('legend', fontsize=B_SIZE)    # legend fontsize\n",
    "plt.rc('figure', titlesize=B_SIZE)  # fontsize of the figure title\n",
    "#plt.rc('xlabel', titlesize=B_SIZE+10)\n",
    "#plt.rc('ylabel', titlesize=B_SIZE+10)\n",
    "\n",
    "plt.title(\"Feature Importance (Hybrid dataset)\", fontweight='bold')\n",
    "plt.bar(range(X.shape[1]), importances[indices],\n",
    "       color='#5c9dcc', align=\"center\",\n",
    "       alpha=0.9, edgecolor='k') #  yerr=std[indices]\n",
    "plt.xticks(range(X.shape[1]), [features_sl[i] for i in indices], rotation='vertical')\n",
    "plt.xlabel('Features')\n",
    "plt.ylabel('Feature importance')\n",
    "plt.xlim([-1, X.shape[1]])\n",
    "plt.savefig('bar_plot_feature_importance.png', bbox_inches='tight')\n",
    "plt.show()  "
   ]
  },
  {
   "cell_type": "code",
   "execution_count": null,
   "metadata": {
    "collapsed": true,
    "scrolled": true
   },
   "outputs": [],
   "source": []
  },
  {
   "cell_type": "code",
   "execution_count": null,
   "metadata": {
    "collapsed": true
   },
   "outputs": [],
   "source": []
  },
  {
   "cell_type": "code",
   "execution_count": 56,
   "metadata": {
    "collapsed": true
   },
   "outputs": [],
   "source": [
    "# Used a small subset [single subject] of the dataset to select fetures\n",
    "# Used a model, which was not used in the validation\n",
    "# Later k-fold CV"
   ]
  },
  {
   "cell_type": "code",
   "execution_count": 57,
   "metadata": {
    "collapsed": true
   },
   "outputs": [],
   "source": [
    "# Important features \n",
    "# All other features are removed\n",
    "# All channels are kept"
   ]
  },
  {
   "cell_type": "code",
   "execution_count": 58,
   "metadata": {
    "collapsed": true
   },
   "outputs": [],
   "source": [
    "#A_sig_dtcwt = np.moveaxis(A_sig_dtcwt,-1,1)\n",
    "#print(A_sig_dtcwt.shape)"
   ]
  },
  {
   "cell_type": "code",
   "execution_count": null,
   "metadata": {
    "collapsed": true
   },
   "outputs": [],
   "source": []
  },
  {
   "cell_type": "code",
   "execution_count": 24,
   "metadata": {},
   "outputs": [
    {
     "data": {
      "image/png": "[encoded data removed]",
      "text/plain": [
       "<matplotlib.figure.Figure at 0x3693fb5048>"
      ]
     },
     "metadata": {},
     "output_type": "display_data"
    }
   ],
   "source": [
    "# Plot the feature importances of the forest\n",
    "plt.figure(figsize=(40,30))\n",
    "\n",
    "B_SIZE = 30\n",
    "axis_font = {'fontname':'Arial', 'size':'30'}\n",
    "plt.rc('font', size=B_SIZE)          # controls default text sizes\n",
    "plt.rc('axes', titlesize=B_SIZE+10)     # fontsize of the axes title\n",
    "plt.rc('axes', labelsize=B_SIZE+10)    # fontsize of the x and y labels\n",
    "plt.rc('xtick', labelsize=B_SIZE-5)    # fontsize of the tick labels\n",
    "plt.rc('ytick', labelsize=B_SIZE-5)    # fontsize of the tick labels\n",
    "plt.rc('legend', fontsize=B_SIZE)    # legend fontsize\n",
    "plt.rc('figure', titlesize=B_SIZE)  # fontsize of the figure title\n",
    "#plt.rc('xlabel', titlesize=B_SIZE+10)\n",
    "#plt.rc('ylabel', titlesize=B_SIZE+10)\n",
    "\n",
    "plt.title(\"Mutual Information between features and targets\", fontweight='bold')\n",
    "plt.bar(range(X.shape[1]), mi[indices],\n",
    "       color='#6cd7b2', align=\"center\",\n",
    "       alpha=0.9, edgecolor='k') #  yerr=std[indices]\n",
    "plt.xticks(range(X.shape[1]), [features_sl[i] for i in indices], rotation='vertical')\n",
    "plt.xlabel('Features')\n",
    "plt.ylabel('Mutual Information')\n",
    "plt.xlim([-1, X.shape[1]])\n",
    "plt.savefig('bar_plot_MI.png', bbox_inches='tight')\n",
    "plt.show() "
   ]
  },
  {
   "cell_type": "code",
   "execution_count": null,
   "metadata": {
    "collapsed": true
   },
   "outputs": [],
   "source": []
  },
  {
   "cell_type": "markdown",
   "metadata": {},
   "source": [
    "### Classification with all selected features"
   ]
  },
  {
   "cell_type": "code",
   "execution_count": 48,
   "metadata": {},
   "outputs": [
    {
     "name": "stdout",
     "output_type": "stream",
     "text": [
      "(450,)\n"
     ]
    }
   ],
   "source": [
    "X = X_fs\n",
    "y = SubX_lab\n",
    "y = y.reshape(len(y),)\n",
    "print(y.shape)"
   ]
  },
  {
   "cell_type": "code",
   "execution_count": 49,
   "metadata": {},
   "outputs": [
    {
     "name": "stdout",
     "output_type": "stream",
     "text": [
      "StandardScaler(copy=True, with_mean=True, with_std=True)\n",
      "[ 2.71267368e-07 -1.18679473e-07  8.81618917e-07  4.49286574e-07\n",
      "  1.27156582e-07  3.05175774e-07 -2.11927631e-08  3.39084210e-07\n",
      "  3.39084210e-08 -1.61064989e-07 -7.62939436e-08 -1.25461156e-06\n",
      "  4.91672097e-07 -1.56826445e-07 -1.54283316e-06  2.49014960e-08\n",
      "  9.96059839e-08 -6.90884065e-07 -3.13652890e-07  4.83194981e-07\n",
      "  2.88221571e-07 -1.57674151e-06 -1.90734859e-08  1.35633684e-07\n",
      "  1.78019206e-07 -4.74717893e-07  1.69542105e-07 -8.47710524e-09\n",
      "  1.01725263e-07  1.05963814e-07]\n",
      "[[-4.1468090e-01 -8.4674144e-01 -7.7635181e-01 ... -1.7314297e-01\n",
      "  -5.5068231e-01 -1.5885355e-01]\n",
      " [-2.5301713e-02 -1.5641887e-01  5.8571202e-01 ... -1.9133644e-01\n",
      "  -5.7329065e-01 -1.8553351e-01]\n",
      " [-2.1612310e-01 -4.5085651e-01 -1.2959120e-01 ... -1.9970101e-01\n",
      "  -6.7207938e-01 -1.9145812e-01]\n",
      " ...\n",
      " [ 5.6242192e-01  5.0433081e-01  1.6153896e+00 ...  9.4587412e-03\n",
      "   7.5359261e-01  3.1665224e-04]\n",
      " [-4.0247354e-01 -8.5722470e-01 -1.0664951e+00 ...  1.2512276e-01\n",
      "   1.0320010e+00  9.7803324e-02]\n",
      " [-1.3428372e-01 -2.0001264e-01 -3.0109385e-01 ...  7.5401984e-02\n",
      "   8.6867112e-01  9.5618315e-02]]\n"
     ]
    }
   ],
   "source": [
    "from sklearn.preprocessing import StandardScaler\n",
    "\n",
    "scaler = StandardScaler()\n",
    "print(scaler.fit(X))\n",
    "\n",
    "print(scaler.mean_)\n",
    "\n",
    "print(scaler.transform(X))\n",
    "\n",
    "X = scaler.transform(X)"
   ]
  },
  {
   "cell_type": "code",
   "execution_count": 50,
   "metadata": {},
   "outputs": [
    {
     "name": "stdout",
     "output_type": "stream",
     "text": [
      "(450, 30)\n",
      "20.900858\n",
      "-1.9009194\n",
      "-4.2385526e-10\n",
      "1.0\n"
     ]
    }
   ],
   "source": [
    "print(X.shape)\n",
    "print(np.max(X))\n",
    "print(np.min(X))\n",
    "print(np.mean(X))\n",
    "print(np.var(X))"
   ]
  },
  {
   "cell_type": "code",
   "execution_count": 152,
   "metadata": {
    "collapsed": true
   },
   "outputs": [],
   "source": [
    "# 10-fold cross validation"
   ]
  },
  {
   "cell_type": "code",
   "execution_count": 19,
   "metadata": {
    "collapsed": true
   },
   "outputs": [],
   "source": [
    "# SubA - DTCWT, 1 level, high, abs, Accuracy:  0.5444444444444445,0.28118893179410825\n",
    "# SubA - DTCWT, 2 level, high, abs, Accuracy:  0.8037037037037038 0.11011902775791484\n",
    "# SubA - DTCWT, 3 level, high, abs, Accuracy:  0.774074074074074,0.1343582010904967\n",
    "# SubA - DWT denoised - Accuracy:  0.711111111111111 0.1274418558080389"
   ]
  },
  {
   "cell_type": "code",
   "execution_count": 51,
   "metadata": {},
   "outputs": [
    {
     "name": "stdout",
     "output_type": "stream",
     "text": [
      "Accuracy:  0.8177777777777777 0.14847371634213394\n"
     ]
    }
   ],
   "source": [
    "from sklearn.model_selection import cross_val_score\n",
    "from sklearn import svm\n",
    "\n",
    "clf = svm.SVC(kernel='linear', C=1)\n",
    "scores = cross_val_score(clf, X, y, cv=10)\n",
    "print('Accuracy: ', scores.mean(), scores.std() * 2)                                             "
   ]
  },
  {
   "cell_type": "code",
   "execution_count": 260,
   "metadata": {
    "collapsed": true
   },
   "outputs": [],
   "source": [
    "# || Accuracy:  0.4333333333333333 0.15555555555555556\n",
    "# || Accuracy:  0.7222222222222222 0.1791612832955233\n",
    "# || Accuracy:  0.6222222222222222 0.24071224902625069\n",
    "# || Accuracy:  0.674074074074074 0.20898868118023534"
   ]
  },
  {
   "cell_type": "code",
   "execution_count": 52,
   "metadata": {},
   "outputs": [
    {
     "name": "stdout",
     "output_type": "stream",
     "text": [
      "Accuracy:  0.8088888888888889 0.13655370218433083\n"
     ]
    }
   ],
   "source": [
    "from sklearn.neighbors import KNeighborsClassifier\n",
    "knn = KNeighborsClassifier(n_neighbors=10)\n",
    "\n",
    "scores = cross_val_score(knn, X, y, cv=10)\n",
    "print('Accuracy: ', scores.mean(), scores.std() * 2) "
   ]
  },
  {
   "cell_type": "code",
   "execution_count": 262,
   "metadata": {
    "collapsed": true
   },
   "outputs": [],
   "source": [
    "# Accuracy:  0.6296296296296295 0.1987615979999813\n",
    "# Accuracy:  0.6814814814814815 0.16296296296296295\n",
    "# Accuracy:  0.7370370370370372 0.17356110390903678\n",
    "# Accuracy:  0.6740740740740739 0.20095792542593388"
   ]
  },
  {
   "cell_type": "code",
   "execution_count": 53,
   "metadata": {},
   "outputs": [
    {
     "name": "stdout",
     "output_type": "stream",
     "text": [
      "Accuracy:  0.7488888888888889 0.12578641509408808\n"
     ]
    }
   ],
   "source": [
    "from sklearn import tree\n",
    "clf = tree.DecisionTreeClassifier()\n",
    "\n",
    "scores = cross_val_score(clf, X, y, cv=10)\n",
    "print('Accuracy: ', scores.mean(), scores.std() * 2)"
   ]
  },
  {
   "cell_type": "code",
   "execution_count": 264,
   "metadata": {
    "collapsed": true
   },
   "outputs": [],
   "source": [
    "# Accuracy:  0.6555555555555556 0.11011902775791484\n",
    "# Accuracy:  0.7296296296296296 0.14458682441439358\n",
    "# Accuracy:  0.7666666666666667 0.18754057631366167\n",
    "# Accuracy:  0.7296296296296296 0.18459164139817943"
   ]
  },
  {
   "cell_type": "code",
   "execution_count": 56,
   "metadata": {},
   "outputs": [
    {
     "name": "stdout",
     "output_type": "stream",
     "text": [
      "Accuracy:  0.8133333333333332 0.13214283330949786\n"
     ]
    }
   ],
   "source": [
    "from sklearn.ensemble import RandomForestClassifier\n",
    "clf = RandomForestClassifier(n_estimators=10, max_depth=None,\n",
    "    min_samples_split=2, random_state=0)\n",
    "\n",
    "scores = cross_val_score(clf, X, y, cv=10)\n",
    "print('Accuracy: ', scores.mean(), scores.std() * 2)"
   ]
  },
  {
   "cell_type": "code",
   "execution_count": 266,
   "metadata": {
    "collapsed": true
   },
   "outputs": [],
   "source": [
    "# Accuracy:  0.6555555555555556 0.17854771545472517\n",
    "# Accuracy:  0.711111111111111 0.14740554623801777\n",
    "# Accuracy:  0.7333333333333334 0.1316769543306013\n",
    "# Accuracy:  0.6851851851851851 0.1375864860815312"
   ]
  },
  {
   "cell_type": "code",
   "execution_count": 57,
   "metadata": {},
   "outputs": [
    {
     "name": "stdout",
     "output_type": "stream",
     "text": [
      "Accuracy:  0.7377777777777779 0.17643940658914847\n"
     ]
    }
   ],
   "source": [
    "from sklearn.ensemble import AdaBoostClassifier\n",
    "clf = AdaBoostClassifier(n_estimators=100)\n",
    "\n",
    "scores = cross_val_score(clf, X, y, cv=10)\n",
    "print('Accuracy: ', scores.mean(), scores.std() * 2)"
   ]
  },
  {
   "cell_type": "code",
   "execution_count": 173,
   "metadata": {
    "collapsed": true
   },
   "outputs": [],
   "source": [
    "# won't be using MLP for comparison"
   ]
  },
  {
   "cell_type": "code",
   "execution_count": 58,
   "metadata": {},
   "outputs": [
    {
     "name": "stdout",
     "output_type": "stream",
     "text": [
      "Accuracy:  0.768888888888889 0.19085253825407902\n"
     ]
    }
   ],
   "source": [
    "from sklearn.neural_network import MLPClassifier\n",
    "clf = MLPClassifier(solver='lbfgs', alpha=1e-5,\n",
    "                    hidden_layer_sizes=(5, 2), random_state=1)\n",
    "\n",
    "scores = cross_val_score(clf, X, y, cv=10)\n",
    "print('Accuracy: ', scores.mean(), scores.std() * 2)"
   ]
  },
  {
   "cell_type": "markdown",
   "metadata": {
    "collapsed": true
   },
   "source": [
    "### References:\n",
    "* https://tsfresh.readthedocs.io/en/latest/api/tsfresh.feature_extraction.html\n",
    "* B. C. Ross “Mutual Information between Discrete and Continuous Data Sets”. PLoS ONE 9(2), 2014.\n",
    "* https://en.wikipedia.org/wiki/Autocorrelation#Estimation\n",
    "* http://scikit-learn.org/stable/auto_examples/ensemble/plot_forest_importances.html\n"
   ]
  },
  {
   "cell_type": "code",
   "execution_count": null,
   "metadata": {
    "collapsed": true
   },
   "outputs": [],
   "source": []
  }
 ],
 "metadata": {
  "kernelspec": {
   "display_name": "Python 3",
   "language": "python",
   "name": "python3"
  },
  "language_info": {
   "codemirror_mode": {
    "name": "ipython",
    "version": 3
   },
   "file_extension": ".py",
   "mimetype": "text/x-python",
   "name": "python",
   "nbconvert_exporter": "python",
   "pygments_lexer": "ipython3",
   "version": "3.6.1"
  }
 },
 "nbformat": 4,
 "nbformat_minor": 2
}
