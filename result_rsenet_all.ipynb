{
 "cells": [
  {
   "cell_type": "markdown",
   "metadata": {},
   "source": [
    "### Import RSE Net"
   ]
  },
  {
   "cell_type": "code",
   "execution_count": 1,
   "metadata": {},
   "outputs": [
    {
     "name": "stderr",
     "output_type": "stream",
     "text": [
      "C:\\Anaconda3\\lib\\site-packages\\h5py\\__init__.py:34: FutureWarning: Conversion of the second argument of issubdtype from `float` to `np.floating` is deprecated. In future, it will be treated as `np.float64 == np.dtype(float).type`.\n",
      "  from ._conv import register_converters as _register_converters\n",
      "Using TensorFlow backend.\n"
     ]
    }
   ],
   "source": [
    "import rse_net  # rse_net.py"
   ]
  },
  {
   "cell_type": "code",
   "execution_count": 2,
   "metadata": {
    "collapsed": true
   },
   "outputs": [],
   "source": [
    "import numpy as np\n",
    "from keras.models import Sequential\n",
    "from keras.models import Model, Input\n",
    "from keras.layers import Dense, Activation, Dropout, BatchNormalization, Average\n",
    "from keras.optimizers import SGD\n",
    "from keras.callbacks import EarlyStopping"
   ]
  },
  {
   "cell_type": "markdown",
   "metadata": {},
   "source": [
    "* Subject A"
   ]
  },
  {
   "cell_type": "code",
   "execution_count": 4,
   "metadata": {},
   "outputs": [
    {
     "name": "stdout",
     "output_type": "stream",
     "text": [
      "(270, 30)\n",
      "(270,)\n"
     ]
    }
   ],
   "source": [
    "X = np.load('features_A.npy')\n",
    "y = np.load('y_A.npy')\n",
    "print(X.shape)\n",
    "print(y.shape)"
   ]
  },
  {
   "cell_type": "code",
   "execution_count": 3,
   "metadata": {
    "collapsed": true
   },
   "outputs": [],
   "source": [
    "from sklearn.preprocessing import LabelBinarizer \n",
    "label_binarizer = LabelBinarizer()\n",
    "label_binarizer.fit([1,2,3]) # need to be global or remembered to use it later\n",
    "\n",
    "def one_hot_encode(x):\n",
    "    return label_binarizer.transform(x)"
   ]
  },
  {
   "cell_type": "code",
   "execution_count": 6,
   "metadata": {},
   "outputs": [
    {
     "name": "stdout",
     "output_type": "stream",
     "text": [
      "(270, 3)\n"
     ]
    }
   ],
   "source": [
    "y_ohe = one_hot_encode(y)\n",
    "print(y_ohe.shape)"
   ]
  },
  {
   "cell_type": "code",
   "execution_count": 13,
   "metadata": {
    "collapsed": true
   },
   "outputs": [],
   "source": [
    "rsf = rse_net.rs_features(X, n_classifier = 7, f_lb = 20, f_ub = 30) # . for reminder"
   ]
  },
  {
   "cell_type": "code",
   "execution_count": 14,
   "metadata": {
    "scrolled": true
   },
   "outputs": [
    {
     "name": "stdout",
     "output_type": "stream",
     "text": [
      "(270, 26)\n",
      "(270, 29)\n",
      "(270, 30)\n",
      "(270, 28)\n",
      "(270, 21)\n",
      "(270, 27)\n",
      "(270, 21)\n"
     ]
    }
   ],
   "source": [
    "for i in range(len(rsf)):\n",
    "    print(rsf[i].shape)"
   ]
  },
  {
   "cell_type": "markdown",
   "metadata": {
    "collapsed": true
   },
   "source": [
    "### 10-fold CV"
   ]
  },
  {
   "cell_type": "code",
   "execution_count": 15,
   "metadata": {},
   "outputs": [
    {
     "name": "stderr",
     "output_type": "stream",
     "text": [
      "C:\\Anaconda3\\lib\\site-packages\\sklearn\\cross_validation.py:44: DeprecationWarning: This module was deprecated in version 0.18 in favor of the model_selection module into which all the refactored classes and functions are moved. Also note that the interface of the new CV iterators are different from that of this module. This module will be removed in 0.20.\n",
      "  \"This module will be removed in 0.20.\", DeprecationWarning)\n"
     ]
    }
   ],
   "source": [
    "from rse_net import cross_validation\n",
    "v_acc_a = rse_net.cross_validation(rsf, y_ohe, k = 10)"
   ]
  },
  {
   "cell_type": "code",
   "execution_count": 16,
   "metadata": {},
   "outputs": [
    {
     "name": "stdout",
     "output_type": "stream",
     "text": [
      "[1.0, 0.9629629850387573, 0.9259259104728699, 0.8148148059844971, 0.7407407164573669, 0.8518518805503845, 0.8888888955116272, 0.9259259104728699, 0.7777777910232544, 0.7777777910232544]\n"
     ]
    }
   ],
   "source": [
    "print(v_acc_a)"
   ]
  },
  {
   "cell_type": "code",
   "execution_count": 17,
   "metadata": {},
   "outputs": [
    {
     "name": "stdout",
     "output_type": "stream",
     "text": [
      "Accuracy:  0.8666666686534882  +/-  0.166295886688625\n"
     ]
    }
   ],
   "source": [
    "print('Accuracy: ', np.mean(v_acc_a), ' +/- ', 2*np.std(v_acc_a))"
   ]
  },
  {
   "cell_type": "markdown",
   "metadata": {
    "collapsed": true
   },
   "source": [
    "* Subject B"
   ]
  },
  {
   "cell_type": "code",
   "execution_count": 4,
   "metadata": {},
   "outputs": [
    {
     "name": "stdout",
     "output_type": "stream",
     "text": [
      "(174, 30)\n",
      "(174,)\n"
     ]
    }
   ],
   "source": [
    "X = np.load('features_B.npy')\n",
    "y = np.load('y_B.npy')\n",
    "print(X.shape)\n",
    "print(y.shape)"
   ]
  },
  {
   "cell_type": "code",
   "execution_count": 7,
   "metadata": {},
   "outputs": [
    {
     "name": "stdout",
     "output_type": "stream",
     "text": [
      "(174, 3)\n"
     ]
    }
   ],
   "source": [
    "y_ohe = one_hot_encode(y)\n",
    "print(y_ohe.shape)"
   ]
  },
  {
   "cell_type": "code",
   "execution_count": 9,
   "metadata": {},
   "outputs": [
    {
     "name": "stdout",
     "output_type": "stream",
     "text": [
      "(174, 30)\n",
      "(174, 21)\n",
      "(174, 25)\n",
      "(174, 29)\n",
      "(174, 23)\n",
      "(174, 26)\n",
      "(174, 22)\n"
     ]
    }
   ],
   "source": [
    "rsf = rse_net.rs_features(X, n_classifier = 7, f_lb = 20, f_ub = 30) # . for reminder\n",
    "for i in range(len(rsf)):\n",
    "    print(rsf[i].shape)"
   ]
  },
  {
   "cell_type": "markdown",
   "metadata": {},
   "source": [
    "### 10-fold CV"
   ]
  },
  {
   "cell_type": "code",
   "execution_count": 10,
   "metadata": {},
   "outputs": [
    {
     "name": "stderr",
     "output_type": "stream",
     "text": [
      "C:\\Anaconda3\\lib\\site-packages\\sklearn\\cross_validation.py:44: DeprecationWarning: This module was deprecated in version 0.18 in favor of the model_selection module into which all the refactored classes and functions are moved. Also note that the interface of the new CV iterators are different from that of this module. This module will be removed in 0.20.\n",
      "  \"This module will be removed in 0.20.\", DeprecationWarning)\n"
     ]
    }
   ],
   "source": [
    "v_acc_a = rse_net.cross_validation(rsf, y_ohe, k = 10)"
   ]
  },
  {
   "cell_type": "code",
   "execution_count": 11,
   "metadata": {},
   "outputs": [
    {
     "name": "stdout",
     "output_type": "stream",
     "text": [
      "[0.8333333134651184, 0.6666666865348816, 0.8888888955116272, 0.6666666865348816, 0.8333333134651184, 0.8333333134651184, 0.9411764740943909, 0.7647058963775635, 0.75, 0.8125]\n"
     ]
    }
   ],
   "source": [
    "print(v_acc_a)"
   ]
  },
  {
   "cell_type": "code",
   "execution_count": 12,
   "metadata": {},
   "outputs": [
    {
     "name": "stdout",
     "output_type": "stream",
     "text": [
      "Accuracy:  0.79906045794487  +/-  0.16806427729847348\n"
     ]
    }
   ],
   "source": [
    "print('Accuracy: ', np.mean(v_acc_a), ' +/- ', 2*np.std(v_acc_a))"
   ]
  },
  {
   "cell_type": "markdown",
   "metadata": {
    "collapsed": true
   },
   "source": [
    "* Subject C"
   ]
  },
  {
   "cell_type": "code",
   "execution_count": 5,
   "metadata": {},
   "outputs": [
    {
     "name": "stdout",
     "output_type": "stream",
     "text": [
      "(180, 30)\n",
      "(180,)\n"
     ]
    }
   ],
   "source": [
    "X = np.load('features_C.npy')\n",
    "y = np.load('y_C.npy')\n",
    "print(X.shape)\n",
    "print(y.shape)"
   ]
  },
  {
   "cell_type": "code",
   "execution_count": 6,
   "metadata": {},
   "outputs": [
    {
     "name": "stdout",
     "output_type": "stream",
     "text": [
      "(180, 3)\n"
     ]
    }
   ],
   "source": [
    "y_ohe = one_hot_encode(y)\n",
    "print(y_ohe.shape)"
   ]
  },
  {
   "cell_type": "code",
   "execution_count": 8,
   "metadata": {},
   "outputs": [
    {
     "name": "stdout",
     "output_type": "stream",
     "text": [
      "(180, 30)\n",
      "(180, 21)\n",
      "(180, 25)\n",
      "(180, 29)\n",
      "(180, 23)\n",
      "(180, 26)\n",
      "(180, 22)\n"
     ]
    }
   ],
   "source": [
    "rsf = rse_net.rs_features(X, n_classifier = 7, f_lb = 20, f_ub = 30) # . for reminder\n",
    "for i in range(len(rsf)):\n",
    "    print(rsf[i].shape)"
   ]
  },
  {
   "cell_type": "markdown",
   "metadata": {},
   "source": [
    "### 10-fold CV"
   ]
  },
  {
   "cell_type": "code",
   "execution_count": 9,
   "metadata": {},
   "outputs": [
    {
     "name": "stderr",
     "output_type": "stream",
     "text": [
      "C:\\Anaconda3\\lib\\site-packages\\sklearn\\cross_validation.py:44: DeprecationWarning: This module was deprecated in version 0.18 in favor of the model_selection module into which all the refactored classes and functions are moved. Also note that the interface of the new CV iterators are different from that of this module. This module will be removed in 0.20.\n",
      "  \"This module will be removed in 0.20.\", DeprecationWarning)\n"
     ]
    }
   ],
   "source": [
    "v_acc_a = rse_net.cross_validation(rsf, y_ohe, k = 10)"
   ]
  },
  {
   "cell_type": "code",
   "execution_count": 10,
   "metadata": {},
   "outputs": [
    {
     "name": "stdout",
     "output_type": "stream",
     "text": [
      "[0.9444444179534912, 0.9444444179534912, 0.8888888955116272, 0.8333333134651184, 0.8888888955116272, 0.8888888955116272, 0.8333333134651184, 0.9444444179534912, 1.0, 0.7777777910232544]\n"
     ]
    }
   ],
   "source": [
    "print(v_acc_a)"
   ]
  },
  {
   "cell_type": "code",
   "execution_count": 11,
   "metadata": {},
   "outputs": [
    {
     "name": "stdout",
     "output_type": "stream",
     "text": [
      "Accuracy:  0.8944444358348846  +/-  0.12619795309407664\n"
     ]
    }
   ],
   "source": [
    "print('Accuracy: ', np.mean(v_acc_a), ' +/- ', 2*np.std(v_acc_a))"
   ]
  },
  {
   "cell_type": "markdown",
   "metadata": {},
   "source": [
    "* Subject D"
   ]
  },
  {
   "cell_type": "code",
   "execution_count": 18,
   "metadata": {
    "scrolled": true
   },
   "outputs": [
    {
     "name": "stdout",
     "output_type": "stream",
     "text": [
      "(80, 30)\n",
      "(80,)\n"
     ]
    }
   ],
   "source": [
    "X = np.load('features_D.npy')\n",
    "y = np.load('y_D.npy')\n",
    "print(X.shape)\n",
    "print(y.shape)"
   ]
  },
  {
   "cell_type": "code",
   "execution_count": 19,
   "metadata": {},
   "outputs": [
    {
     "name": "stdout",
     "output_type": "stream",
     "text": [
      "(80, 2)\n"
     ]
    }
   ],
   "source": [
    "from keras.utils import to_categorical\n",
    "y[y==1] = 0\n",
    "y[y==2] = 1\n",
    "y_ohe = to_categorical(y)\n",
    "print(y_ohe.shape)"
   ]
  },
  {
   "cell_type": "code",
   "execution_count": 8,
   "metadata": {
    "scrolled": true
   },
   "outputs": [
    {
     "name": "stdout",
     "output_type": "stream",
     "text": [
      "(80, 30)\n",
      "(80, 21)\n",
      "(80, 25)\n",
      "(80, 29)\n",
      "(80, 23)\n",
      "(80, 26)\n",
      "(80, 22)\n"
     ]
    }
   ],
   "source": [
    "rsf = rse_net.rs_features(X, n_classifier = 7, f_lb = 20, f_ub = 30) # . for reminder\n",
    "for i in range(len(rsf)):\n",
    "    print(rsf[i].shape)"
   ]
  },
  {
   "cell_type": "markdown",
   "metadata": {},
   "source": [
    "### 10-fold CV"
   ]
  },
  {
   "cell_type": "code",
   "execution_count": 20,
   "metadata": {},
   "outputs": [],
   "source": [
    "v_acc_a = rse_net.cross_validation(rsf, y_ohe, k = 10, nb_class = 2)"
   ]
  },
  {
   "cell_type": "code",
   "execution_count": 21,
   "metadata": {},
   "outputs": [
    {
     "name": "stdout",
     "output_type": "stream",
     "text": [
      "[0.625, 1.0, 0.875, 0.625, 0.5, 0.625, 0.625, 0.5, 0.5, 0.5]\n"
     ]
    }
   ],
   "source": [
    "print(v_acc_a)"
   ]
  },
  {
   "cell_type": "code",
   "execution_count": 22,
   "metadata": {},
   "outputs": [
    {
     "name": "stdout",
     "output_type": "stream",
     "text": [
      "Accuracy:  0.6375  +/-  0.325\n"
     ]
    }
   ],
   "source": [
    "print('Accuracy: ', np.mean(v_acc_a), ' +/- ', 2*np.std(v_acc_a))"
   ]
  },
  {
   "cell_type": "markdown",
   "metadata": {},
   "source": [
    "* Subject E"
   ]
  },
  {
   "cell_type": "code",
   "execution_count": 3,
   "metadata": {},
   "outputs": [
    {
     "name": "stdout",
     "output_type": "stream",
     "text": [
      "(48, 30)\n",
      "(48,)\n"
     ]
    }
   ],
   "source": [
    "X = np.load('features_E.npy')\n",
    "y = np.load('y_E.npy')\n",
    "print(X.shape)\n",
    "print(y.shape)"
   ]
  },
  {
   "cell_type": "code",
   "execution_count": 4,
   "metadata": {},
   "outputs": [
    {
     "name": "stdout",
     "output_type": "stream",
     "text": [
      "(48, 2)\n"
     ]
    }
   ],
   "source": [
    "from keras.utils import to_categorical\n",
    "y[y==1] = 0\n",
    "y[y==2] = 1\n",
    "y_ohe = to_categorical(y)\n",
    "print(y_ohe.shape)"
   ]
  },
  {
   "cell_type": "code",
   "execution_count": 6,
   "metadata": {},
   "outputs": [
    {
     "name": "stdout",
     "output_type": "stream",
     "text": [
      "(48, 30)\n",
      "(48, 21)\n",
      "(48, 25)\n",
      "(48, 29)\n",
      "(48, 23)\n",
      "(48, 26)\n",
      "(48, 22)\n"
     ]
    }
   ],
   "source": [
    "rsf = rse_net.rs_features(X, n_classifier = 7, f_lb = 20, f_ub = 30) # . for reminder\n",
    "for i in range(len(rsf)):\n",
    "    print(rsf[i].shape)"
   ]
  },
  {
   "cell_type": "markdown",
   "metadata": {},
   "source": [
    "### 10-fold CV"
   ]
  },
  {
   "cell_type": "code",
   "execution_count": 10,
   "metadata": {
    "collapsed": true
   },
   "outputs": [],
   "source": [
    "v_acc_a = rse_net.cross_validation(rsf, y_ohe, k = 10, nb_class = 2)"
   ]
  },
  {
   "cell_type": "code",
   "execution_count": 11,
   "metadata": {},
   "outputs": [
    {
     "name": "stdout",
     "output_type": "stream",
     "text": [
      "[1.0, 0.6666666865348816, 0.6666666865348816, 0.6666666865348816, 1.0, 0.5, 1.0, 0.5, 1.0, 0.75]\n"
     ]
    }
   ],
   "source": [
    "print(v_acc_a)"
   ]
  },
  {
   "cell_type": "code",
   "execution_count": 12,
   "metadata": {},
   "outputs": [
    {
     "name": "stdout",
     "output_type": "stream",
     "text": [
      "Accuracy:  0.7750000059604645  +/-  0.39475730286797456\n"
     ]
    }
   ],
   "source": [
    "print('Accuracy: ', np.mean(v_acc_a), ' +/- ', 2*np.std(v_acc_a))"
   ]
  },
  {
   "cell_type": "markdown",
   "metadata": {},
   "source": [
    "* Subject F"
   ]
  },
  {
   "cell_type": "code",
   "execution_count": 3,
   "metadata": {},
   "outputs": [
    {
     "name": "stdout",
     "output_type": "stream",
     "text": [
      "(80, 30)\n",
      "(80,)\n"
     ]
    }
   ],
   "source": [
    "X = np.load('features_F.npy')\n",
    "y = np.load('y_F.npy')\n",
    "print(X.shape)\n",
    "print(y.shape)"
   ]
  },
  {
   "cell_type": "code",
   "execution_count": 4,
   "metadata": {},
   "outputs": [
    {
     "name": "stdout",
     "output_type": "stream",
     "text": [
      "(80, 2)\n"
     ]
    }
   ],
   "source": [
    "from keras.utils import to_categorical\n",
    "y[y==1] = 0\n",
    "y[y==2] = 1\n",
    "y_ohe = to_categorical(y)\n",
    "print(y_ohe.shape)"
   ]
  },
  {
   "cell_type": "code",
   "execution_count": 6,
   "metadata": {},
   "outputs": [
    {
     "name": "stdout",
     "output_type": "stream",
     "text": [
      "(80, 30)\n",
      "(80, 21)\n",
      "(80, 25)\n",
      "(80, 29)\n",
      "(80, 23)\n",
      "(80, 26)\n",
      "(80, 22)\n"
     ]
    }
   ],
   "source": [
    "rsf = rse_net.rs_features(X, n_classifier = 7, f_lb = 20, f_ub = 30) # . for reminder\n",
    "for i in range(len(rsf)):\n",
    "    print(rsf[i].shape)"
   ]
  },
  {
   "cell_type": "markdown",
   "metadata": {},
   "source": [
    "### 10-fold CV"
   ]
  },
  {
   "cell_type": "code",
   "execution_count": 7,
   "metadata": {},
   "outputs": [
    {
     "name": "stderr",
     "output_type": "stream",
     "text": [
      "C:\\Anaconda3\\lib\\site-packages\\sklearn\\cross_validation.py:44: DeprecationWarning: This module was deprecated in version 0.18 in favor of the model_selection module into which all the refactored classes and functions are moved. Also note that the interface of the new CV iterators are different from that of this module. This module will be removed in 0.20.\n",
      "  \"This module will be removed in 0.20.\", DeprecationWarning)\n"
     ]
    }
   ],
   "source": [
    "v_acc_a = rse_net.cross_validation(rsf, y_ohe, k = 10, nb_class = 2)"
   ]
  },
  {
   "cell_type": "code",
   "execution_count": 8,
   "metadata": {},
   "outputs": [
    {
     "name": "stdout",
     "output_type": "stream",
     "text": [
      "[0.75, 1.0, 0.875, 1.0, 0.875, 1.0, 0.75, 0.875, 1.0, 0.875]\n"
     ]
    }
   ],
   "source": [
    "print(v_acc_a)"
   ]
  },
  {
   "cell_type": "code",
   "execution_count": 9,
   "metadata": {},
   "outputs": [
    {
     "name": "stdout",
     "output_type": "stream",
     "text": [
      "Accuracy:  0.9  +/-  0.18708286933869706\n"
     ]
    }
   ],
   "source": [
    "print('Accuracy: ', np.mean(v_acc_a), ' +/- ', 2*np.std(v_acc_a))"
   ]
  },
  {
   "cell_type": "markdown",
   "metadata": {},
   "source": [
    "* Subject G"
   ]
  },
  {
   "cell_type": "code",
   "execution_count": 11,
   "metadata": {},
   "outputs": [
    {
     "name": "stdout",
     "output_type": "stream",
     "text": [
      "(120, 30)\n",
      "(120,)\n"
     ]
    }
   ],
   "source": [
    "X = np.load('features_G.npy')\n",
    "y = np.load('y_G.npy')\n",
    "print(X.shape)\n",
    "print(y.shape)"
   ]
  },
  {
   "cell_type": "code",
   "execution_count": 12,
   "metadata": {},
   "outputs": [
    {
     "name": "stdout",
     "output_type": "stream",
     "text": [
      "(120, 2)\n"
     ]
    }
   ],
   "source": [
    "from keras.utils import to_categorical\n",
    "y[y==1] = 0\n",
    "y[y==2] = 1\n",
    "y_ohe = to_categorical(y)\n",
    "print(y_ohe.shape)"
   ]
  },
  {
   "cell_type": "code",
   "execution_count": 13,
   "metadata": {},
   "outputs": [
    {
     "name": "stdout",
     "output_type": "stream",
     "text": [
      "(120, 26)\n",
      "(120, 29)\n",
      "(120, 30)\n",
      "(120, 28)\n",
      "(120, 21)\n",
      "(120, 27)\n",
      "(120, 21)\n"
     ]
    }
   ],
   "source": [
    "rsf = rse_net.rs_features(X, n_classifier = 7, f_lb = 20, f_ub = 30) # . for reminder\n",
    "for i in range(len(rsf)):\n",
    "    print(rsf[i].shape)"
   ]
  },
  {
   "cell_type": "markdown",
   "metadata": {},
   "source": [
    "### 10-fold CV"
   ]
  },
  {
   "cell_type": "code",
   "execution_count": 15,
   "metadata": {
    "collapsed": true
   },
   "outputs": [],
   "source": [
    "v_acc_a = rse_net.cross_validation(rsf, y_ohe, k = 10, nb_class = 2)"
   ]
  },
  {
   "cell_type": "code",
   "execution_count": 16,
   "metadata": {},
   "outputs": [
    {
     "name": "stdout",
     "output_type": "stream",
     "text": [
      "[0.75, 0.9166666865348816, 0.9166666865348816, 0.8333333134651184, 1.0, 0.6666666865348816, 0.5833333134651184, 0.5, 0.75, 0.8333333134651184]\n"
     ]
    }
   ],
   "source": [
    "print(v_acc_a)"
   ]
  },
  {
   "cell_type": "code",
   "execution_count": 17,
   "metadata": {},
   "outputs": [
    {
     "name": "stdout",
     "output_type": "stream",
     "text": [
      "Accuracy:  0.775  +/-  0.29860788777309716\n"
     ]
    }
   ],
   "source": [
    "print('Accuracy: ', np.mean(v_acc_a), ' +/- ', 2*np.std(v_acc_a))"
   ]
  },
  {
   "cell_type": "markdown",
   "metadata": {},
   "source": [
    "* Subject H"
   ]
  },
  {
   "cell_type": "code",
   "execution_count": 3,
   "metadata": {},
   "outputs": [
    {
     "name": "stdout",
     "output_type": "stream",
     "text": [
      "(150, 30)\n",
      "(150,)\n"
     ]
    }
   ],
   "source": [
    "X = np.load('features_H.npy')\n",
    "y = np.load('y_H.npy')\n",
    "print(X.shape)\n",
    "print(y.shape)"
   ]
  },
  {
   "cell_type": "code",
   "execution_count": 4,
   "metadata": {},
   "outputs": [
    {
     "name": "stdout",
     "output_type": "stream",
     "text": [
      "(150, 2)\n"
     ]
    }
   ],
   "source": [
    "from keras.utils import to_categorical\n",
    "y[y==1] = 0\n",
    "y[y==2] = 1\n",
    "y_ohe = to_categorical(y)\n",
    "print(y_ohe.shape)"
   ]
  },
  {
   "cell_type": "code",
   "execution_count": 6,
   "metadata": {},
   "outputs": [
    {
     "name": "stdout",
     "output_type": "stream",
     "text": [
      "(150, 30)\n",
      "(150, 21)\n",
      "(150, 25)\n",
      "(150, 29)\n",
      "(150, 23)\n",
      "(150, 26)\n",
      "(150, 22)\n"
     ]
    }
   ],
   "source": [
    "rsf = rse_net.rs_features(X, n_classifier = 7, f_lb = 20, f_ub = 30) # . for reminder\n",
    "for i in range(len(rsf)):\n",
    "    print(rsf[i].shape)"
   ]
  },
  {
   "cell_type": "markdown",
   "metadata": {},
   "source": [
    "### 10-fold CV"
   ]
  },
  {
   "cell_type": "code",
   "execution_count": 7,
   "metadata": {},
   "outputs": [
    {
     "name": "stderr",
     "output_type": "stream",
     "text": [
      "C:\\Anaconda3\\lib\\site-packages\\sklearn\\cross_validation.py:44: DeprecationWarning: This module was deprecated in version 0.18 in favor of the model_selection module into which all the refactored classes and functions are moved. Also note that the interface of the new CV iterators are different from that of this module. This module will be removed in 0.20.\n",
      "  \"This module will be removed in 0.20.\", DeprecationWarning)\n"
     ]
    }
   ],
   "source": [
    "v_acc_a = rse_net.cross_validation(rsf, y_ohe, k = 10, nb_class = 2)"
   ]
  },
  {
   "cell_type": "code",
   "execution_count": 8,
   "metadata": {},
   "outputs": [
    {
     "name": "stdout",
     "output_type": "stream",
     "text": [
      "[0.875, 0.875, 0.875, 0.625, 0.875, 0.7142857313156128, 0.5714285969734192, 0.7857142686843872, 0.5714285969734192, 0.7142857313156128]\n"
     ]
    }
   ],
   "source": [
    "print(v_acc_a)"
   ]
  },
  {
   "cell_type": "code",
   "execution_count": 9,
   "metadata": {},
   "outputs": [
    {
     "name": "stdout",
     "output_type": "stream",
     "text": [
      "Accuracy:  0.7482142925262452  +/-  0.24140847657770984\n"
     ]
    }
   ],
   "source": [
    "print('Accuracy: ', np.mean(v_acc_a), ' +/- ', 2*np.std(v_acc_a))"
   ]
  },
  {
   "cell_type": "code",
   "execution_count": null,
   "metadata": {
    "collapsed": true
   },
   "outputs": [],
   "source": []
  }
 ],
 "metadata": {
  "kernelspec": {
   "display_name": "Python 3",
   "language": "python",
   "name": "python3"
  },
  "language_info": {
   "codemirror_mode": {
    "name": "ipython",
    "version": 3
   },
   "file_extension": ".py",
   "mimetype": "text/x-python",
   "name": "python",
   "nbconvert_exporter": "python",
   "pygments_lexer": "ipython3",
   "version": "3.6.1"
  }
 },
 "nbformat": 4,
 "nbformat_minor": 2
}
